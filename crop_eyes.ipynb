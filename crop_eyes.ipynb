{
 "cells": [
  {
   "cell_type": "markdown",
   "metadata": {
    "colab_type": "text",
    "id": "YxmG1D_OudQf"
   },
   "source": [
    "# Object Detection Demo\n",
    "Welcome to the object detection inference walkthrough!  This notebook will walk you step by step through the process of using a pre-trained model to detect objects in an image. Make sure to follow the [installation instructions](https://github.com/tensorflow/models/blob/master/research/object_detection/g3doc/installation.md) before you start."
   ]
  },
  {
   "cell_type": "markdown",
   "metadata": {
    "colab_type": "text",
    "id": "00fr_f9bya5D"
   },
   "source": [
    "## Drive setup"
   ]
  },
  {
   "cell_type": "code",
   "execution_count": 2,
   "metadata": {
    "colab": {
     "autoexec": {
      "startup": false,
      "wait_interval": 0
     },
     "base_uri": "https://localhost:8080/",
     "height": 34
    },
    "colab_type": "code",
    "executionInfo": {
     "elapsed": 2016,
     "status": "ok",
     "timestamp": 1523131449300,
     "user": {
      "displayName": "Gabriel Andrei",
      "photoUrl": "https://lh3.googleusercontent.com/a/default-user=s128",
      "userId": "104453749357877089552"
     },
     "user_tz": -180
    },
    "id": "xxKgsiOLvo7a",
    "outputId": "a7a314fa-8d67-4f11-d883-7558d2dadead"
   },
   "outputs": [
    {
     "name": "stdout",
     "output_type": "stream",
     "text": [
      "datalab\r\n"
     ]
    }
   ],
   "source": [
    "!ls"
   ]
  },
  {
   "cell_type": "code",
   "execution_count": 3,
   "metadata": {
    "colab": {
     "autoexec": {
      "startup": false,
      "wait_interval": 0
     },
     "base_uri": "https://localhost:8080/",
     "height": 106
    },
    "colab_type": "code",
    "executionInfo": {
     "elapsed": 17530,
     "status": "ok",
     "timestamp": 1523131522922,
     "user": {
      "displayName": "Gabriel Andrei",
      "photoUrl": "https://lh3.googleusercontent.com/a/default-user=s128",
      "userId": "104453749357877089552"
     },
     "user_tz": -180
    },
    "id": "QQY-ZoF8xt9G",
    "outputId": "34e8881f-8f40-49d9-d9bd-ab5072b85ad5"
   },
   "outputs": [
    {
     "name": "stdout",
     "output_type": "stream",
     "text": [
      "Please, open the following URL in a web browser: https://accounts.google.com/o/oauth2/auth?client_id=32555940559.apps.googleusercontent.com&redirect_uri=urn%3Aietf%3Awg%3Aoauth%3A2.0%3Aoob&scope=https%3A%2F%2Fwww.googleapis.com%2Fauth%2Fdrive&response_type=code&access_type=offline&approval_prompt=force\r\n",
      "··········\n",
      "Please, open the following URL in a web browser: https://accounts.google.com/o/oauth2/auth?client_id=32555940559.apps.googleusercontent.com&redirect_uri=urn%3Aietf%3Awg%3Aoauth%3A2.0%3Aoob&scope=https%3A%2F%2Fwww.googleapis.com%2Fauth%2Fdrive&response_type=code&access_type=offline&approval_prompt=force\n",
      "Please enter the verification code: Access token retrieved correctly.\n"
     ]
    }
   ],
   "source": [
    "!apt-get install -y -qq software-properties-common python-software-properties module-init-tools\n",
    "!add-apt-repository -y ppa:alessandro-strada/ppa 2>&1 > /dev/null\n",
    "!apt-get update -qq 2>&1 > /dev/null\n",
    "!apt-get -y install -qq google-drive-ocamlfuse fuse\n",
    "from google.colab import auth\n",
    "auth.authenticate_user()\n",
    "from oauth2client.client import GoogleCredentials\n",
    "creds = GoogleCredentials.get_application_default()\n",
    "import getpass\n",
    "!google-drive-ocamlfuse -headless -id={creds.client_id} -secret={creds.client_secret} < /dev/null 2>&1 | grep URL\n",
    "vcode = getpass.getpass()\n",
    "!echo {vcode} | google-drive-ocamlfuse -headless -id={creds.client_id} -secret={creds.client_secret}\n",
    "\n",
    "!mkdir -p drive\n",
    "!google-drive-ocamlfuse drive"
   ]
  },
  {
   "cell_type": "code",
   "execution_count": 4,
   "metadata": {
    "colab": {
     "autoexec": {
      "startup": false,
      "wait_interval": 0
     },
     "base_uri": "https://localhost:8080/",
     "height": 121
    },
    "colab_type": "code",
    "executionInfo": {
     "elapsed": 3030,
     "status": "ok",
     "timestamp": 1523131526022,
     "user": {
      "displayName": "Gabriel Andrei",
      "photoUrl": "https://lh3.googleusercontent.com/a/default-user=s128",
      "userId": "104453749357877089552"
     },
     "user_tz": -180
    },
    "id": "anowSpELy8Ni",
    "outputId": "61b8471b-dabc-4749-f2d6-f074f5be3995"
   },
   "outputs": [
    {
     "name": "stdout",
     "output_type": "stream",
     "text": [
      "App\t\t\t\t\tcropped_eyes_training_scores.npy\r\n",
      "App v1\t\t\t\t\teye_dataset\r\n",
      "Copy of cifar10_inception_solver.ipynb\tEyes.ipynb\r\n",
      "cropped_eyes_testing.npy\t\tGazecapture_Dataset\r\n",
      "cropped_eyes_testing_scores.npy\t\tmodels\r\n",
      "cropped_eyes_training.npy\t\tUntitled0.ipynb\r\n"
     ]
    }
   ],
   "source": [
    "# !ls drive/models/research/object_detection/test_images\n",
    "!ls drive"
   ]
  },
  {
   "cell_type": "code",
   "execution_count": 5,
   "metadata": {
    "colab": {
     "autoexec": {
      "startup": false,
      "wait_interval": 0
     },
     "base_uri": "https://localhost:8080/",
     "height": 521
    },
    "colab_type": "code",
    "executionInfo": {
     "elapsed": 30998,
     "status": "ok",
     "timestamp": 1523131557134,
     "user": {
      "displayName": "Gabriel Andrei",
      "photoUrl": "https://lh3.googleusercontent.com/a/default-user=s128",
      "userId": "104453749357877089552"
     },
     "user_tz": -180
    },
    "id": "X0_oL5iBzyJ6",
    "outputId": "2ffd29ad-8bcb-4a5e-f981-3194f0a01270"
   },
   "outputs": [
    {
     "name": "stdout",
     "output_type": "stream",
     "text": [
      "Reading package lists... Done\n",
      "Building dependency tree       \n",
      "Reading state information... Done\n",
      "The following additional packages will be installed:\n",
      "  libprotobuf10 libprotoc10\n",
      "The following NEW packages will be installed:\n",
      "  libprotobuf10 libprotoc10 protobuf-compiler\n",
      "0 upgraded, 3 newly installed, 0 to remove and 11 not upgraded.\n",
      "Need to get 1,239 kB of archives.\n",
      "After this operation, 4,935 kB of additional disk space will be used.\n",
      "Get:1 http://archive.ubuntu.com/ubuntu artful/main amd64 libprotobuf10 amd64 3.0.0-9ubuntu5 [650 kB]\n",
      "Get:2 http://archive.ubuntu.com/ubuntu artful/main amd64 libprotoc10 amd64 3.0.0-9ubuntu5 [565 kB]\n",
      "Get:3 http://archive.ubuntu.com/ubuntu artful/main amd64 protobuf-compiler amd64 3.0.0-9ubuntu5 [24.5 kB]\n",
      "Fetched 1,239 kB in 0s (1,461 kB/s)\n",
      "Selecting previously unselected package libprotobuf10:amd64.\n",
      "(Reading database ... 18149 files and directories currently installed.)\n",
      "Preparing to unpack .../libprotobuf10_3.0.0-9ubuntu5_amd64.deb ...\n",
      "Unpacking libprotobuf10:amd64 (3.0.0-9ubuntu5) ...\n",
      "Selecting previously unselected package libprotoc10:amd64.\n",
      "Preparing to unpack .../libprotoc10_3.0.0-9ubuntu5_amd64.deb ...\n",
      "Unpacking libprotoc10:amd64 (3.0.0-9ubuntu5) ...\n",
      "Selecting previously unselected package protobuf-compiler.\n",
      "Preparing to unpack .../protobuf-compiler_3.0.0-9ubuntu5_amd64.deb ...\n",
      "Unpacking protobuf-compiler (3.0.0-9ubuntu5) ...\n",
      "Setting up libprotobuf10:amd64 (3.0.0-9ubuntu5) ...\n",
      "Processing triggers for libc-bin (2.26-0ubuntu2.1) ...\n",
      "Setting up libprotoc10:amd64 (3.0.0-9ubuntu5) ...\n",
      "Setting up protobuf-compiler (3.0.0-9ubuntu5) ...\n",
      "Processing triggers for libc-bin (2.26-0ubuntu2.1) ...\n"
     ]
    }
   ],
   "source": [
    "import os\n",
    "\n",
    "!apt-get install protobuf-compiler\n",
    "\n",
    "os.chdir('/content/drive/models/research')\n",
    "# # From tensorflow/models/research/\n",
    "!protoc object_detection/protos/*.proto --python_out=.\n",
    "\n",
    "os.chdir('/content')"
   ]
  },
  {
   "cell_type": "code",
   "execution_count": 6,
   "metadata": {
    "colab": {
     "autoexec": {
      "startup": false,
      "wait_interval": 0
     },
     "base_uri": "https://localhost:8080/",
     "height": 69
    },
    "colab_type": "code",
    "executionInfo": {
     "elapsed": 4390,
     "status": "ok",
     "timestamp": 1523131561680,
     "user": {
      "displayName": "Gabriel Andrei",
      "photoUrl": "https://lh3.googleusercontent.com/a/default-user=s128",
      "userId": "104453749357877089552"
     },
     "user_tz": -180
    },
    "id": "NWxNxz6SzoHK",
    "outputId": "7233fa96-8dcd-4b99-bbf2-80218c0e764f"
   },
   "outputs": [
    {
     "name": "stdout",
     "output_type": "stream",
     "text": [
      "/env/python\n",
      "/content\n",
      "/env/python:/content/drive/models/research/:/content/drive/models/research/slim:/content/drive/models/research/object_detection\n"
     ]
    }
   ],
   "source": [
    "import os\n",
    "\n",
    "!echo $PYTHONPATH\n",
    "!pwd\n",
    "\n",
    "os.environ['PYTHONPATH'] = '/env/python' + ':/content/drive/models/research/' + ':/content/drive/models/research/slim' + ':/content/drive/models/research/object_detection'\n",
    "\n",
    "!echo $PYTHONPATH"
   ]
  },
  {
   "cell_type": "markdown",
   "metadata": {
    "colab_type": "text",
    "id": "nM-CrBZGudQv"
   },
   "source": [
    "# Imports"
   ]
  },
  {
   "cell_type": "code",
   "execution_count": 0,
   "metadata": {
    "colab": {
     "autoexec": {
      "startup": false,
      "wait_interval": 0
     }
    },
    "colab_type": "code",
    "collapsed": true,
    "id": "wxdjNT0XudQ5"
   },
   "outputs": [],
   "source": [
    "import numpy as np\n",
    "import os\n",
    "import six.moves.urllib as urllib\n",
    "import sys\n",
    "import tarfile\n",
    "import tensorflow as tf\n",
    "import zipfile\n",
    "\n",
    "from collections import defaultdict\n",
    "from io import StringIO\n",
    "from matplotlib import pyplot as plt\n",
    "from PIL import Image\n",
    "\n",
    "# This is needed since the notebook is stored in the object_detection folder.\n",
    "sys.path.append(\"/content/drive/models/research/\")\n",
    "from object_detection.utils import ops as utils_ops\n",
    "\n",
    "if tf.__version__ < '1.4.0':\n",
    "  raise ImportError('Please upgrade your tensorflow installation to v1.4.* or later!')\n"
   ]
  },
  {
   "cell_type": "markdown",
   "metadata": {
    "colab_type": "text",
    "id": "W2pKouDZudRj"
   },
   "source": [
    "## Env setup"
   ]
  },
  {
   "cell_type": "code",
   "execution_count": 0,
   "metadata": {
    "colab": {
     "autoexec": {
      "startup": false,
      "wait_interval": 0
     }
    },
    "colab_type": "code",
    "collapsed": true,
    "id": "r_X_kO4HudRs"
   },
   "outputs": [],
   "source": [
    "# This is needed to display the images.\n",
    "%matplotlib inline"
   ]
  },
  {
   "cell_type": "markdown",
   "metadata": {
    "colab_type": "text",
    "id": "paA-7r5ludSI"
   },
   "source": [
    "## Object detection imports\n",
    "Here are the imports from the object detection module."
   ]
  },
  {
   "cell_type": "code",
   "execution_count": 9,
   "metadata": {
    "colab": {
     "autoexec": {
      "startup": false,
      "wait_interval": 0
     },
     "base_uri": "https://localhost:8080/",
     "height": 1267
    },
    "colab_type": "code",
    "executionInfo": {
     "elapsed": 7170,
     "status": "ok",
     "timestamp": 1523131581696,
     "user": {
      "displayName": "Gabriel Andrei",
      "photoUrl": "https://lh3.googleusercontent.com/a/default-user=s128",
      "userId": "104453749357877089552"
     },
     "user_tz": -180
    },
    "id": "aWRQYLs5udSR",
    "outputId": "97045569-d987-431c-d80c-41995316bdee"
   },
   "outputs": [
    {
     "name": "stderr",
     "output_type": "stream",
     "text": [
      "/content/drive/models/research/object_detection/utils/visualization_utils.py:25: UserWarning: \n",
      "This call to matplotlib.use() has no effect because the backend has already\n",
      "been chosen; matplotlib.use() must be called *before* pylab, matplotlib.pyplot,\n",
      "or matplotlib.backends is imported for the first time.\n",
      "\n",
      "The backend was *originally* set to 'module://ipykernel.pylab.backend_inline' by the following code:\n",
      "  File \"/usr/lib/python3.6/runpy.py\", line 193, in _run_module_as_main\n",
      "    \"__main__\", mod_spec)\n",
      "  File \"/usr/lib/python3.6/runpy.py\", line 85, in _run_code\n",
      "    exec(code, run_globals)\n",
      "  File \"/usr/local/lib/python3.6/dist-packages/ipykernel_launcher.py\", line 16, in <module>\n",
      "    app.launch_new_instance()\n",
      "  File \"/usr/local/lib/python3.6/dist-packages/traitlets/config/application.py\", line 658, in launch_instance\n",
      "    app.start()\n",
      "  File \"/usr/local/lib/python3.6/dist-packages/ipykernel/kernelapp.py\", line 477, in start\n",
      "    ioloop.IOLoop.instance().start()\n",
      "  File \"/usr/local/lib/python3.6/dist-packages/zmq/eventloop/ioloop.py\", line 177, in start\n",
      "    super(ZMQIOLoop, self).start()\n",
      "  File \"/usr/local/lib/python3.6/dist-packages/tornado/ioloop.py\", line 888, in start\n",
      "    handler_func(fd_obj, events)\n",
      "  File \"/usr/local/lib/python3.6/dist-packages/tornado/stack_context.py\", line 277, in null_wrapper\n",
      "    return fn(*args, **kwargs)\n",
      "  File \"/usr/local/lib/python3.6/dist-packages/zmq/eventloop/zmqstream.py\", line 440, in _handle_events\n",
      "    self._handle_recv()\n",
      "  File \"/usr/local/lib/python3.6/dist-packages/zmq/eventloop/zmqstream.py\", line 472, in _handle_recv\n",
      "    self._run_callback(callback, msg)\n",
      "  File \"/usr/local/lib/python3.6/dist-packages/zmq/eventloop/zmqstream.py\", line 414, in _run_callback\n",
      "    callback(*args, **kwargs)\n",
      "  File \"/usr/local/lib/python3.6/dist-packages/tornado/stack_context.py\", line 277, in null_wrapper\n",
      "    return fn(*args, **kwargs)\n",
      "  File \"/usr/local/lib/python3.6/dist-packages/ipykernel/kernelbase.py\", line 283, in dispatcher\n",
      "    return self.dispatch_shell(stream, msg)\n",
      "  File \"/usr/local/lib/python3.6/dist-packages/ipykernel/kernelbase.py\", line 235, in dispatch_shell\n",
      "    handler(stream, idents, msg)\n",
      "  File \"/usr/local/lib/python3.6/dist-packages/ipykernel/kernelbase.py\", line 399, in execute_request\n",
      "    user_expressions, allow_stdin)\n",
      "  File \"/usr/local/lib/python3.6/dist-packages/ipykernel/ipkernel.py\", line 196, in do_execute\n",
      "    res = shell.run_cell(code, store_history=store_history, silent=silent)\n",
      "  File \"/usr/local/lib/python3.6/dist-packages/ipykernel/zmqshell.py\", line 533, in run_cell\n",
      "    return super(ZMQInteractiveShell, self).run_cell(*args, **kwargs)\n",
      "  File \"/usr/local/lib/python3.6/dist-packages/IPython/core/interactiveshell.py\", line 2718, in run_cell\n",
      "    interactivity=interactivity, compiler=compiler, result=result)\n",
      "  File \"/usr/local/lib/python3.6/dist-packages/IPython/core/interactiveshell.py\", line 2828, in run_ast_nodes\n",
      "    if self.run_code(code, result):\n",
      "  File \"/usr/local/lib/python3.6/dist-packages/IPython/core/interactiveshell.py\", line 2882, in run_code\n",
      "    exec(code_obj, self.user_global_ns, self.user_ns)\n",
      "  File \"<ipython-input-8-e63dad7f4786>\", line 1, in <module>\n",
      "    get_ipython().magic('matplotlib inline')\n",
      "  File \"/usr/local/lib/python3.6/dist-packages/IPython/core/interactiveshell.py\", line 2160, in magic\n",
      "    return self.run_line_magic(magic_name, magic_arg_s)\n",
      "  File \"/usr/local/lib/python3.6/dist-packages/IPython/core/interactiveshell.py\", line 2081, in run_line_magic\n",
      "    result = fn(*args,**kwargs)\n",
      "  File \"<decorator-gen-105>\", line 2, in matplotlib\n",
      "  File \"/usr/local/lib/python3.6/dist-packages/IPython/core/magic.py\", line 188, in <lambda>\n",
      "    call = lambda f, *a, **k: f(*a, **k)\n",
      "  File \"/usr/local/lib/python3.6/dist-packages/IPython/core/magics/pylab.py\", line 100, in matplotlib\n",
      "    gui, backend = self.shell.enable_matplotlib(args.gui)\n",
      "  File \"/usr/local/lib/python3.6/dist-packages/IPython/core/interactiveshell.py\", line 2950, in enable_matplotlib\n",
      "    pt.activate_matplotlib(backend)\n",
      "  File \"/usr/local/lib/python3.6/dist-packages/IPython/core/pylabtools.py\", line 309, in activate_matplotlib\n",
      "    matplotlib.pyplot.switch_backend(backend)\n",
      "  File \"/usr/local/lib/python3.6/dist-packages/matplotlib/pyplot.py\", line 232, in switch_backend\n",
      "    matplotlib.use(newbackend, warn=False, force=True)\n",
      "  File \"/usr/local/lib/python3.6/dist-packages/matplotlib/__init__.py\", line 1305, in use\n",
      "    reload(sys.modules['matplotlib.backends'])\n",
      "  File \"/usr/lib/python3.6/importlib/__init__.py\", line 166, in reload\n",
      "    _bootstrap._exec(spec, module)\n",
      "  File \"/usr/local/lib/python3.6/dist-packages/matplotlib/backends/__init__.py\", line 14, in <module>\n",
      "    line for line in traceback.format_stack()\n",
      "\n",
      "\n",
      "  import matplotlib; matplotlib.use('Agg')  # pylint: disable=multiple-statements\n"
     ]
    }
   ],
   "source": [
    "from object_detection.utils import label_map_util\n",
    "\n",
    "from object_detection.utils import visualization_utils as vis_util"
   ]
  },
  {
   "cell_type": "markdown",
   "metadata": {
    "colab_type": "text",
    "id": "acRvEpZpudSp"
   },
   "source": [
    "# Model preparation "
   ]
  },
  {
   "cell_type": "markdown",
   "metadata": {
    "colab_type": "text",
    "id": "XJlLh26rudSw"
   },
   "source": [
    "## Variables\n",
    "\n",
    "Any model exported using the `export_inference_graph.py` tool can be loaded here simply by changing `PATH_TO_CKPT` to point to a new .pb file.  \n",
    "\n",
    "By default we use an \"SSD with Mobilenet\" model here. See the [detection model zoo](https://github.com/tensorflow/models/blob/master/research/object_detection/g3doc/detection_model_zoo.md) for a list of other models that can be run out-of-the-box with varying speeds and accuracies."
   ]
  },
  {
   "cell_type": "code",
   "execution_count": 0,
   "metadata": {
    "colab": {
     "autoexec": {
      "startup": false,
      "wait_interval": 0
     }
    },
    "colab_type": "code",
    "collapsed": true,
    "id": "8p_d8zHFudS4"
   },
   "outputs": [],
   "source": [
    "# What model to download.\n",
    "MODEL_NAME = 'drive/models/research/object_detection/face_detection_inference_graph'\n",
    "\n",
    "# Path to frozen detection graph. This is the actual model that is used for the object detection.\n",
    "PATH_TO_CKPT = MODEL_NAME + '/frozen_inference_graph.pb'\n",
    "\n",
    "# List of the strings that is used to add correct label for each box.\n",
    "PATH_TO_LABELS = os.path.join('drive/models/research/object_detection/data', 'object-detection.pbtxt')\n",
    "\n",
    "NUM_CLASSES = 1"
   ]
  },
  {
   "cell_type": "markdown",
   "metadata": {
    "colab_type": "text",
    "id": "UgekIvhludTR"
   },
   "source": [
    "## Download Model"
   ]
  },
  {
   "cell_type": "code",
   "execution_count": 0,
   "metadata": {
    "colab": {
     "autoexec": {
      "startup": false,
      "wait_interval": 0
     }
    },
    "colab_type": "code",
    "collapsed": true,
    "id": "ibik_D7DudTc"
   },
   "outputs": [],
   "source": []
  },
  {
   "cell_type": "markdown",
   "metadata": {
    "colab_type": "text",
    "id": "94oyZJMWudT6"
   },
   "source": [
    "## Load a (frozen) Tensorflow model into memory."
   ]
  },
  {
   "cell_type": "code",
   "execution_count": 0,
   "metadata": {
    "colab": {
     "autoexec": {
      "startup": false,
      "wait_interval": 0
     }
    },
    "colab_type": "code",
    "collapsed": true,
    "id": "EwCkQtyHudUA"
   },
   "outputs": [],
   "source": [
    "detection_graph = tf.Graph()\n",
    "with detection_graph.as_default():\n",
    "  od_graph_def = tf.GraphDef()\n",
    "  with tf.gfile.GFile(PATH_TO_CKPT, 'rb') as fid:\n",
    "    serialized_graph = fid.read()\n",
    "    od_graph_def.ParseFromString(serialized_graph)\n",
    "    tf.import_graph_def(od_graph_def, name='')\n",
    "    "
   ]
  },
  {
   "cell_type": "markdown",
   "metadata": {
    "colab_type": "text",
    "id": "ePd5gshdudUa"
   },
   "source": [
    "## Loading label map\n",
    "Label maps map indices to category names, so that when our convolution network predicts `5`, we know that this corresponds to `airplane`.  Here we use internal utility functions, but anything that returns a dictionary mapping integers to appropriate string labels would be fine"
   ]
  },
  {
   "cell_type": "code",
   "execution_count": 0,
   "metadata": {
    "colab": {
     "autoexec": {
      "startup": false,
      "wait_interval": 0
     }
    },
    "colab_type": "code",
    "collapsed": true,
    "id": "UA99QCPiudUj"
   },
   "outputs": [],
   "source": [
    "label_map = label_map_util.load_labelmap(PATH_TO_LABELS)\n",
    "categories = label_map_util.convert_label_map_to_categories(label_map, max_num_classes=NUM_CLASSES, use_display_name=True)\n",
    "category_index = label_map_util.create_category_index(categories)"
   ]
  },
  {
   "cell_type": "markdown",
   "metadata": {
    "colab_type": "text",
    "id": "r0JFOeQpudU5"
   },
   "source": [
    "## Helper code"
   ]
  },
  {
   "cell_type": "code",
   "execution_count": 0,
   "metadata": {
    "colab": {
     "autoexec": {
      "startup": false,
      "wait_interval": 0
     }
    },
    "colab_type": "code",
    "collapsed": true,
    "id": "SqFWP5n9udVK"
   },
   "outputs": [],
   "source": [
    "def load_image_into_numpy_array(image):\n",
    "  (im_width, im_height) = image.size\n",
    "  return np.array(image.getdata()).reshape(\n",
    "      (im_height, im_width, 3)).astype(np.uint8)"
   ]
  },
  {
   "cell_type": "markdown",
   "metadata": {
    "colab_type": "text",
    "id": "ZFalksAUudVh"
   },
   "source": [
    "# Detection"
   ]
  },
  {
   "cell_type": "code",
   "execution_count": 0,
   "metadata": {
    "colab": {
     "autoexec": {
      "startup": false,
      "wait_interval": 0
     }
    },
    "colab_type": "code",
    "collapsed": true,
    "id": "vw0GyFpLudVo"
   },
   "outputs": [],
   "source": [
    "import glob, os\n",
    "from PIL import Image\n",
    "import numpy as np\n",
    "\n",
    "# For the sake of simplicity we will use only 2 images:\n",
    "# image1.jpg\n",
    "# image2.jpg\n",
    "# If you want to test the code with your images, just add path to the images to the TEST_IMAGE_PATHS.\n",
    "PATH_TO_TEST_IMAGES_DIR = 'drive/eye_dataset/Columbia_Gaze_Data_Set'\n",
    "\n",
    "IMAGE_PATHS = [ os.path.join(PATH_TO_TEST_IMAGES_DIR, '000{}'.format(i)) for i in range(1, 10) ]\n",
    "IMAGE_PATHS.extend([ os.path.join(PATH_TO_TEST_IMAGES_DIR, '00{}'.format(i)) for i in range(10, 57) ])\n",
    "TEST_IMAGE_PATHS = []\n",
    "\n",
    "real_images = []\n",
    "\n",
    "# for i in range(56): # 56\n",
    "#     for file in glob.glob(os.path.join(IMAGE_PATHS[i], \"00*_0P*\")):\n",
    "#         TEST_IMAGE_PATHS.append(file)\n",
    "        \n",
    "#         image = Image.open(file)\n",
    "#         image_np = load_image_into_numpy_array(image)\n",
    "\n",
    "#         real_images.append(image_np);\n",
    "        \n",
    "# print(TEST_IMAGE_PATHS)\n",
    "# Size, in inches, of the output images.\n",
    "IMAGE_SIZE = (12, 8)"
   ]
  },
  {
   "cell_type": "code",
   "execution_count": 15,
   "metadata": {
    "colab": {
     "autoexec": {
      "startup": false,
      "wait_interval": 0
     },
     "base_uri": "https://localhost:8080/",
     "height": 121
    },
    "colab_type": "code",
    "executionInfo": {
     "elapsed": 1672,
     "status": "ok",
     "timestamp": 1523131594718,
     "user": {
      "displayName": "Gabriel Andrei",
      "photoUrl": "https://lh3.googleusercontent.com/a/default-user=s128",
      "userId": "104453749357877089552"
     },
     "user_tz": -180
    },
    "id": "niUiSc1DxIyt",
    "outputId": "88590b4c-1d51-4eb4-d640-a779412a90f4"
   },
   "outputs": [
    {
     "name": "stdout",
     "output_type": "stream",
     "text": [
      "App\t\t\t\t\tcropped_eyes_training_scores.npy\r\n",
      "App v1\t\t\t\t\teye_dataset\r\n",
      "Copy of cifar10_inception_solver.ipynb\tEyes.ipynb\r\n",
      "cropped_eyes_testing.npy\t\tGazecapture_Dataset\r\n",
      "cropped_eyes_testing_scores.npy\t\tmodels\r\n",
      "cropped_eyes_training.npy\t\tUntitled0.ipynb\r\n"
     ]
    }
   ],
   "source": [
    "!ls drive"
   ]
  },
  {
   "cell_type": "code",
   "execution_count": 0,
   "metadata": {
    "colab": {
     "autoexec": {
      "startup": false,
      "wait_interval": 0
     }
    },
    "colab_type": "code",
    "collapsed": true,
    "id": "HpHRSTAdudWC"
   },
   "outputs": [],
   "source": [
    "def run_inference_for_single_image(image, graph):\n",
    "  with graph.as_default():\n",
    "    with tf.Session() as sess:\n",
    "      # Get handles to input and output tensors\n",
    "      ops = tf.get_default_graph().get_operations()\n",
    "      all_tensor_names = {output.name for op in ops for output in op.outputs}\n",
    "#       print(all_tensor_names)\n",
    "      tensor_dict = {}\n",
    "      for key in [\n",
    "          'num_detections', 'detection_boxes', 'detection_scores',\n",
    "          'detection_classes', 'detection_masks'\n",
    "      ]:\n",
    "        tensor_name = key + ':0'\n",
    "        if tensor_name in all_tensor_names:\n",
    "          tensor_dict[key] = tf.get_default_graph().get_tensor_by_name(\n",
    "              tensor_name)\n",
    "      if 'detection_masks' in tensor_dict:\n",
    "        # The following processing is only for single image\n",
    "        detection_boxes = tf.squeeze(tensor_dict['detection_boxes'], [0])\n",
    "        detection_masks = tf.squeeze(tensor_dict['detection_masks'], [0])\n",
    "        # Reframe is required to translate mask from box coordinates to image coordinates and fit the image size.\n",
    "        real_num_detection = tf.cast(tensor_dict['num_detections'][0], tf.int32)\n",
    "        detection_boxes = tf.slice(detection_boxes, [0, 0], [real_num_detection, -1])\n",
    "        detection_masks = tf.slice(detection_masks, [0, 0, 0], [real_num_detection, -1, -1])\n",
    "        detection_masks_reframed = utils_ops.reframe_box_masks_to_image_masks(\n",
    "            detection_masks, detection_boxes, image.shape[0], image.shape[1])\n",
    "        detection_masks_reframed = tf.cast(\n",
    "            tf.greater(detection_masks_reframed, 0.5), tf.uint8)\n",
    "        # Follow the convention by adding back the batch dimension\n",
    "        tensor_dict['detection_masks'] = tf.expand_dims(\n",
    "            detection_masks_reframed, 0)\n",
    "      image_tensor = tf.get_default_graph().get_tensor_by_name('image_tensor:0')\n",
    "\n",
    "      # Run inference\n",
    "      output_dict = sess.run(tensor_dict,\n",
    "                             feed_dict={image_tensor: np.expand_dims(image, 0)})\n",
    "\n",
    "      # all outputs are float32 numpy arrays, so convert types as appropriate\n",
    "      output_dict['num_detections'] = int(output_dict['num_detections'][0])\n",
    "      output_dict['detection_classes'] = output_dict[\n",
    "          'detection_classes'][0].astype(np.uint8)\n",
    "      output_dict['detection_boxes'] = output_dict['detection_boxes'][0]\n",
    "      output_dict['detection_scores'] = output_dict['detection_scores'][0]\n",
    "      if 'detection_masks' in output_dict:\n",
    "        output_dict['detection_masks'] = output_dict['detection_masks'][0]\n",
    "  return output_dict"
   ]
  },
  {
   "cell_type": "code",
   "execution_count": 34,
   "metadata": {
    "colab": {
     "autoexec": {
      "startup": false,
      "wait_interval": 0
     },
     "base_uri": "https://localhost:8080/",
     "height": 1230
    },
    "colab_type": "code",
    "executionInfo": {
     "elapsed": 23062882,
     "status": "ok",
     "timestamp": 1522597810613,
     "user": {
      "displayName": "Gabriel Andrei",
      "photoUrl": "https://lh3.googleusercontent.com/a/default-user=s128",
      "userId": "104453749357877089552"
     },
     "user_tz": -180
    },
    "id": "SAenP00SudWd",
    "outputId": "d686e424-861f-4e56-8917-545fffe134ce"
   },
   "outputs": [
    {
     "name": "stdout",
     "output_type": "stream",
     "text": [
      "1% 1/56\n"
     ]
    },
    {
     "name": "stderr",
     "output_type": "stream",
     "text": [
      "/usr/local/lib/python3.6/dist-packages/scipy/misc/pilutil.py:482: FutureWarning: Conversion of the second argument of issubdtype from `int` to `np.signedinteger` is deprecated. In future, it will be treated as `np.int64 == np.dtype(int).type`.\n",
      "  if issubdtype(ts, int):\n",
      "/usr/local/lib/python3.6/dist-packages/scipy/misc/pilutil.py:485: FutureWarning: Conversion of the second argument of issubdtype from `float` to `np.floating` is deprecated. In future, it will be treated as `np.float64 == np.dtype(float).type`.\n",
      "  elif issubdtype(type(size), float):\n"
     ]
    },
    {
     "name": "stdout",
     "output_type": "stream",
     "text": [
      "3% 2/56\n",
      "5% 3/56\n",
      "7% 4/56\n",
      "8% 5/56\n",
      "10% 6/56\n",
      "12% 7/56\n",
      "14% 8/56\n",
      "16% 9/56\n",
      "17% 10/56\n",
      "19% 11/56\n",
      "21% 12/56\n",
      "23% 13/56\n",
      "25% 14/56\n",
      "26% 15/56\n",
      "28% 16/56\n",
      "30% 17/56\n",
      "32% 18/56\n",
      "Error on drive/eye_dataset/Columbia_Gaze_Data_Set/0018/0018_2m_0P_0V_5H (7761c5a2).jpg\n",
      "Last file: drive/eye_dataset/Columbia_Gaze_Data_Set/0018/0018_2m_0P_0V_5H (7761c5a2).jpg\n",
      "Error on drive/eye_dataset/Columbia_Gaze_Data_Set/0018/0018_2m_0P_-10V_10H (fab278ef).jpg\n",
      "Last file: drive/eye_dataset/Columbia_Gaze_Data_Set/0018/0018_2m_0P_-10V_10H (fab278ef).jpg\n",
      "33% 19/56\n",
      "35% 20/56\n",
      "37% 21/56\n",
      "Error on drive/eye_dataset/Columbia_Gaze_Data_Set/0021/0021_2m_0P_-10V_-15H.jpg\n",
      "Last file: drive/eye_dataset/Columbia_Gaze_Data_Set/0021/0021_2m_0P_-10V_-15H.jpg\n",
      "39% 22/56\n",
      "41% 23/56\n",
      "42% 24/56\n",
      "44% 25/56\n",
      "46% 26/56\n",
      "48% 27/56\n",
      "50% 28/56\n",
      "51% 29/56\n",
      "53% 30/56\n",
      "55% 31/56\n",
      "57% 32/56\n",
      "58% 33/56\n",
      "60% 34/56\n",
      "62% 35/56\n",
      "64% 36/56\n",
      "66% 37/56\n",
      "67% 38/56\n",
      "69% 39/56\n",
      "71% 40/56\n",
      "73% 41/56\n",
      "75% 42/56\n",
      "76% 43/56\n",
      "78% 44/56\n",
      "80% 45/56\n",
      "82% 46/56\n",
      "83% 47/56\n",
      "85% 48/56\n",
      "87% 49/56\n",
      "89% 50/56\n",
      "91% 51/56\n",
      "92% 52/56\n",
      "94% 53/56\n",
      "96% 54/56\n",
      "98% 55/56\n",
      "Error on drive/eye_dataset/Columbia_Gaze_Data_Set/0055/0055_2m_0P_0V_5H (e53217bc).jpg\n",
      "Error on drive/eye_dataset/Columbia_Gaze_Data_Set/0055/0055_2m_0P_0V_10H (c9b30b3b).jpg\n",
      "100% 56/56\n",
      "Error on drive/eye_dataset/Columbia_Gaze_Data_Set/0056/0056_2m_0P_-10V_-5H (26b429a7).jpg\n",
      "Last file: drive/eye_dataset/Columbia_Gaze_Data_Set/0056/0056_2m_0P_-10V_-5H (26b429a7).jpg\n"
     ]
    }
   ],
   "source": [
    "import glob, os\n",
    "from PIL import Image\n",
    "import numpy as np\n",
    "from scipy.misc import imresize\n",
    "import re\n",
    "\n",
    "cropped_eyes_training = []\n",
    "cropped_eyes_testing = []\n",
    "y_values_training = []\n",
    "y_values_testing = []\n",
    "filenames_test = []\n",
    "\n",
    "for i in range(56): # 56\n",
    "    print(str(int((i+1)/56*100)) + '% ' + str(i+1) + '/56')\n",
    "    \n",
    "    current_files = glob.glob(os.path.join(IMAGE_PATHS[i], \"00*_0P*\"))\n",
    "    \n",
    "    learning_indexes = np.random.choice(len(current_files), int(85/100*len(current_files)), replace=False)\n",
    "    testing_indexes = list(set(range(len(current_files))).difference(learning_indexes))\n",
    "    \n",
    "    learning_files = list(np.asarray(current_files)[learning_indexes])\n",
    "    testing_files = list(np.asarray(current_files)[testing_indexes])\n",
    "    \n",
    "    # Training set\n",
    "    for file in learning_files:\n",
    "        image = Image.open(file)\n",
    "        image_np = load_image_into_numpy_array(image)\n",
    "\n",
    "        image_np_expanded = np.expand_dims(image_np, axis=0)\n",
    "        # Actual detection.\n",
    "        output_dict = run_inference_for_single_image(image_np, detection_graph)\n",
    "\n",
    "        maxValIndex = np.where(output_dict['detection_scores'] == output_dict['detection_scores'].max())[0]\n",
    "        bounds = output_dict['detection_boxes'][maxValIndex][0]\n",
    "        bounds[0] = bounds[0]*np.size(image_np, 0) # y\n",
    "        bounds[1] = bounds[1]*(np.size(image_np, 1) - 1/10) # x\n",
    "        bounds[2] = bounds[2]*np.size(image_np, 0) # h\n",
    "        bounds[3] = bounds[3]*(np.size(image_np, 1) + 1/10) # w\n",
    "\n",
    "        bounds = bounds.astype(int)\n",
    "        \n",
    "        try:\n",
    "          extracted_img = image_np[int(10/8*bounds[0]):int(bounds[2] - 5/9*(bounds[2]-bounds[0])), \\\n",
    "                                          int(bounds[1]):int(bounds[3])]\n",
    "          parsed_name = re.compile('[_\\.]').split(file)\n",
    "          current_score = [int(parsed_name[-3][:-1]), int(parsed_name[-2][:-1])]\n",
    "          \n",
    "          cropped_eyes_training.append(imresize(extracted_img, 1/4))\n",
    "          y_values_training.append(current_score)\n",
    "        except Exception as e:\n",
    "          print('Error on ' + file)\n",
    "          print('Last file: ' + file)\n",
    "  \n",
    "    # Testing set\n",
    "    for file in testing_files:\n",
    "        image = Image.open(file)\n",
    "        image_np = load_image_into_numpy_array(image)\n",
    "\n",
    "        image_np_expanded = np.expand_dims(image_np, axis=0)\n",
    "        # Actual detection.\n",
    "        output_dict = run_inference_for_single_image(image_np, detection_graph)\n",
    "\n",
    "        maxValIndex = np.where(output_dict['detection_scores'] == output_dict['detection_scores'].max())[0]\n",
    "        bounds = output_dict['detection_boxes'][maxValIndex][0]\n",
    "        bounds[0] = bounds[0]*np.size(image_np, 0) # y\n",
    "        bounds[1] = bounds[1]*(np.size(image_np, 1) - 1/10) # x\n",
    "        bounds[2] = bounds[2]*np.size(image_np, 0) # h\n",
    "        bounds[3] = bounds[3]*(np.size(image_np, 1) + 1/10) # w\n",
    "\n",
    "        bounds = bounds.astype(int)\n",
    "        \n",
    "        try:\n",
    "          extracted_img = image_np[int(10/8*bounds[0]):int(bounds[2] - 5/9*(bounds[2]-bounds[0])), \\\n",
    "                                          int(bounds[1]):int(bounds[3])]\n",
    "          parsed_name = re.compile('[_\\.]').split(file)\n",
    "          current_score = [int(parsed_name[-3][:-1]), int(parsed_name[-2][:-1])]\n",
    "          \n",
    "          cropped_eyes_testing.append(imresize(extracted_img, 1/4))\n",
    "          y_values_testing.append(current_score)\n",
    "        except Exception as e:\n",
    "          print('Error on ' + file)\n",
    "        \n",
    "        \n",
    "#         for i in range(3):\n",
    "#           for j in range(3):\n",
    "#             cropped_eyes_list.append(image_np[int(10/8*bounds[0] + 1.5*60 - j*60):int(bounds[2] - 5/9*(bounds[2]-bounds[0]) + 1.5*60 - j*60), \\\n",
    "#                                               int(bounds[1] + 1.5*60 - i*60):int(bounds[3] + 1.5*60 - i*60)])\n",
    "\n",
    "      \n",
    "# for image_path in TEST_IMAGE_PATHS:\n",
    "#   print(image_path)\n",
    "#   image = Image.open(image_path)\n",
    "#   # the array based representation of the image will be used later in order to prepare the\n",
    "#   # result image with boxes and labels on it.\n",
    "#   image_np = load_image_into_numpy_array(image)\n",
    "#   # Expand dimensions since the model expects images to have shape: [1, None, None, 3]\n",
    "#   image_np_expanded = np.expand_dims(image_np, axis=0)\n",
    "#   # Actual detection.\n",
    "#   output_dict = run_inference_for_single_image(image_np, detection_graph)\n",
    "  \n",
    "# #   Visualization of the results of a detection.\n",
    "# #   vis_util.visualize_boxes_and_labels_on_image_array(\n",
    "# #       image_np,\n",
    "# #       output_dict['detection_boxes'],\n",
    "# #       output_dict['detection_classes'],\n",
    "# #       output_dict['detection_scores'],\n",
    "# #       category_index,\n",
    "# #       instance_masks=output_dict.get('detection_masks'),\n",
    "# #       use_normalized_coordinates=True,\n",
    "# #       line_thickness=8)\n",
    "  \n",
    "#   maxValIndex = np.where(output_dict['detection_scores'] == output_dict['detection_scores'].max())[0]\n",
    "#   bounds = output_dict['detection_boxes'][maxValIndex][0]\n",
    "#   bounds[0] = bounds[0]*np.size(image_np, 0) # y\n",
    "#   bounds[1] = bounds[1]*(np.size(image_np, 1) - 1/10) # x\n",
    "#   bounds[2] = bounds[2]*np.size(image_np, 0) # h\n",
    "#   bounds[3] = bounds[3]*(np.size(image_np, 1) + 1/10) # w\n",
    "  \n",
    "#   bounds = bounds.astype(int)\n",
    "#   print(bounds)\n",
    "  \n",
    "#   for i in range(5):\n",
    "#     for j in range(3):\n",
    "#       cropped_eyes_list.append(image_np[int(10/8*bounds[0] + 1.5*60 - j*60):int(bounds[2] - 5/9*(bounds[2]-bounds[0]) + 1.5*60 - j*60), \\\n",
    "#                                         int(bounds[1] + 3*30 - i*30):int(bounds[3] + 3*30 - i*30)])\n",
    "      \n",
    "#   for i in range(15):\n",
    "#     plt.figure(figsize=IMAGE_SIZE)\n",
    "#     plt.axis('off')\n",
    "#     plt.imshow(cropped_eyes_list[i])\n",
    "      \n",
    "# #   print(output_dict['detection_scores'])\n",
    "  "
   ]
  },
  {
   "cell_type": "code",
   "execution_count": 0,
   "metadata": {
    "colab": {
     "autoexec": {
      "startup": false,
      "wait_interval": 0
     }
    },
    "colab_type": "code",
    "collapsed": true,
    "id": "FGVnBo5K4oMz"
   },
   "outputs": [],
   "source": [
    "np.save('/content/drive/cropped_eyes_training.npy', cropped_eyes_training)\n",
    "np.save('/content/drive/cropped_eyes_training_scores.npy', y_values_training)\n",
    "\n",
    "np.save('/content/drive/cropped_eyes_testing.npy', cropped_eyes_testing)\n",
    "np.save('/content/drive/cropped_eyes_testing_scores.npy', y_values_testing)"
   ]
  },
  {
   "cell_type": "code",
   "execution_count": 0,
   "metadata": {
    "colab": {
     "autoexec": {
      "startup": false,
      "wait_interval": 0
     }
    },
    "colab_type": "code",
    "collapsed": true,
    "id": "RYJ_mPUBIMx0"
   },
   "outputs": [],
   "source": [
    "# !ls\n",
    "\n",
    "# test_vect = np.arange(20).reshape(2,2,5)\n",
    "# print(test_vect)\n",
    "# test_vect2 = []\n",
    "# # np.savetxt('/content/drive/test_vect.npy', test_vect)\n",
    "# # np.loadtxt('/content/drive/test_vect.npy', test_vect2)\n",
    "# np.save('/content/drive/test_vect.npy', test_vect)\n",
    "# test_vect2 = np.load('/content/drive/test_vect.npy')\n",
    "\n",
    "# print(test_vect2)"
   ]
  },
  {
   "cell_type": "code",
   "execution_count": 0,
   "metadata": {
    "colab": {
     "autoexec": {
      "startup": false,
      "wait_interval": 0
     }
    },
    "colab_type": "code",
    "collapsed": true,
    "id": "5D8A8Z4TtXeA"
   },
   "outputs": [],
   "source": [
    "# SHow images\n",
    "# for i in range(np.size(cropped_eyes_list, 0)):\n",
    "#   plt.figure(figsize=IMAGE_SIZE)\n",
    "#   plt.axis('off')\n",
    "#   plt.imshow(cropped_eyes_list[i])\n",
    "#   print(y_values[i])"
   ]
  },
  {
   "cell_type": "markdown",
   "metadata": {
    "colab_type": "text",
    "id": "ANxBb8biKN9C"
   },
   "source": [
    "## Crop"
   ]
  },
  {
   "cell_type": "code",
   "execution_count": 1,
   "metadata": {
    "colab": {
     "autoexec": {
      "startup": false,
      "wait_interval": 0
     },
     "base_uri": "https://localhost:8080/",
     "height": 236
    },
    "colab_type": "code",
    "executionInfo": {
     "elapsed": 972,
     "status": "error",
     "timestamp": 1523131426290,
     "user": {
      "displayName": "Gabriel Andrei",
      "photoUrl": "https://lh3.googleusercontent.com/a/default-user=s128",
      "userId": "104453749357877089552"
     },
     "user_tz": -180
    },
    "id": "1fZv5XFFudXO",
    "outputId": "475e14df-d89f-4a92-b499-c57983ad0c99"
   },
   "outputs": [
    {
     "ename": "NameError",
     "evalue": "ignored",
     "output_type": "error",
     "traceback": [
      "\u001b[0;31m---------------------------------------------------------------------------\u001b[0m",
      "\u001b[0;31mNameError\u001b[0m                                 Traceback (most recent call last)",
      "\u001b[0;32m<ipython-input-1-c62f0c007c2f>\u001b[0m in \u001b[0;36m<module>\u001b[0;34m()\u001b[0m\n\u001b[1;32m      1\u001b[0m \u001b[0;32mfrom\u001b[0m \u001b[0mscipy\u001b[0m\u001b[0;34m.\u001b[0m\u001b[0mmisc\u001b[0m \u001b[0;32mimport\u001b[0m \u001b[0mimresize\u001b[0m\u001b[0;34m\u001b[0m\u001b[0m\n\u001b[1;32m      2\u001b[0m \u001b[0;34m\u001b[0m\u001b[0m\n\u001b[0;32m----> 3\u001b[0;31m \u001b[0mprint\u001b[0m\u001b[0;34m(\u001b[0m\u001b[0mbounds\u001b[0m\u001b[0;34m)\u001b[0m\u001b[0;34m\u001b[0m\u001b[0m\n\u001b[0m\u001b[1;32m      4\u001b[0m \u001b[0;34m\u001b[0m\u001b[0m\n\u001b[1;32m      5\u001b[0m \u001b[0;31m# print(image_np[bounds[0]:bounds[2]])\u001b[0m\u001b[0;34m\u001b[0m\u001b[0;34m\u001b[0m\u001b[0m\n",
      "\u001b[0;31mNameError\u001b[0m: name 'bounds' is not defined"
     ]
    }
   ],
   "source": [
    "from scipy.misc import imresize\n",
    "\n",
    "print(bounds)\n",
    "\n",
    "# print(image_np[bounds[0]:bounds[2]])\n",
    "# plt.imshow(image_np[int(10/8*bounds[0]):int(bounds[2] - 5/9*(bounds[2]-bounds[0])), bounds[1]:bounds[3]])\n",
    "# plt.imshow(cropped_eyes_list[485])\n",
    "\n",
    "x = cropped_eyes_list[190]\n",
    "# x = imresize(x, 1/4)\n",
    "# plt.axis('off')\n",
    "plt.imshow(x)"
   ]
  },
  {
   "cell_type": "code",
   "execution_count": 21,
   "metadata": {
    "colab": {
     "autoexec": {
      "startup": false,
      "wait_interval": 0
     },
     "base_uri": "https://localhost:8080/",
     "height": 34
    },
    "colab_type": "code",
    "executionInfo": {
     "elapsed": 526,
     "status": "ok",
     "timestamp": 1522537056480,
     "user": {
      "displayName": "Gabriel Andrei",
      "photoUrl": "https://lh3.googleusercontent.com/a/default-user=s128",
      "userId": "104453749357877089552"
     },
     "user_tz": -180
    },
    "id": "Cz9lcSdIx1rI",
    "outputId": "f830e5d7-f9aa-4e5c-c9e6-3d786dfc77d6"
   },
   "outputs": [
    {
     "name": "stdout",
     "output_type": "stream",
     "text": [
      "1\n"
     ]
    }
   ],
   "source": []
  },
  {
   "cell_type": "code",
   "execution_count": 85,
   "metadata": {
    "colab": {
     "autoexec": {
      "startup": false,
      "wait_interval": 0
     },
     "base_uri": "https://localhost:8080/",
     "height": 382
    },
    "colab_type": "code",
    "executionInfo": {
     "elapsed": 542,
     "status": "ok",
     "timestamp": 1522538059166,
     "user": {
      "displayName": "Gabriel Andrei",
      "photoUrl": "https://lh3.googleusercontent.com/a/default-user=s128",
      "userId": "104453749357877089552"
     },
     "user_tz": -180
    },
    "id": "9Ep8nqHHUF8e",
    "outputId": "317a3fad-5a26-49b7-f95d-9cb55aa40082"
   },
   "outputs": [
    {
     "name": "stdout",
     "output_type": "stream",
     "text": [
      "[0, 15]\n",
      "[10, -10]\n",
      "[10, -5]\n",
      "[-10, -5]\n",
      "[-10, 0]\n",
      "[0, -10]\n",
      "[0, -15]\n",
      "[10, 10]\n",
      "[10, -15]\n",
      "[0, 10]\n",
      "[10, 15]\n",
      "[10, 0]\n",
      "[-10, 5]\n",
      "[-10, 10]\n",
      "[10, 5]\n",
      "[0, 5]\n",
      "[0, -5]\n",
      "[-10, -15]\n",
      "[0, 0]\n",
      "[-10, -10]\n",
      "[-10, 15]\n"
     ]
    }
   ],
   "source": [
    "import re\n",
    "\n",
    "for file in glob.glob(os.path.join(IMAGE_PATHS[i], \"00*_0P*\")):\n",
    "  y_value = re.compile('[_\\.]').split(file)\n",
    "  y_value = [int(y_value[-3][:-1]), int(y_value[-2][:-1])]\n",
    "  print(y_value)"
   ]
  },
  {
   "cell_type": "code",
   "execution_count": 132,
   "metadata": {
    "colab": {
     "autoexec": {
      "startup": false,
      "wait_interval": 0
     },
     "base_uri": "https://localhost:8080/",
     "height": 86
    },
    "colab_type": "code",
    "executionInfo": {
     "elapsed": 598,
     "status": "ok",
     "timestamp": 1522540293094,
     "user": {
      "displayName": "Gabriel Andrei",
      "photoUrl": "https://lh3.googleusercontent.com/a/default-user=s128",
      "userId": "104453749357877089552"
     },
     "user_tz": -180
    },
    "id": "iKgW46u7ZGLM",
    "outputId": "e06bcea1-294d-4d03-950a-029250bad546"
   },
   "outputs": [
    {
     "name": "stdout",
     "output_type": "stream",
     "text": [
      "[   0  200 1900  800 1500 1200  100 2000 1400  400 1600  300 1700  700\n",
      " 1300  500 1800]\n",
      "[6, 9, 10, 11]\n"
     ]
    },
    {
     "data": {
      "text/plain": [
       "[2, 3, 5]"
      ]
     },
     "execution_count": 132,
     "metadata": {
      "tags": []
     },
     "output_type": "execute_result"
    }
   ],
   "source": [
    "current_files = glob.glob(os.path.join(IMAGE_PATHS[0], \"00*_0P*\"))\n",
    "    \n",
    "learning_indexes = np.random.choice(len(current_files), int(85/100*len(current_files)), replace=False)\n",
    "testing_indexes = list(set(range(len(current_files))).difference(learning_indexes))\n",
    "\n",
    "print(learning_indexes*100)\n",
    "print(testing_indexes)\n",
    "\n",
    "\n",
    "x = [2,3,5]\n",
    "y = range(10)\n",
    "\n",
    "list(np.asarray(y)[x])"
   ]
  }
 ],
 "metadata": {
  "colab": {
   "collapsed_sections": [],
   "default_view": {},
   "name": "crop_eyes.ipynb",
   "provenance": [],
   "version": "0.3.2",
   "views": {}
  },
  "kernelspec": {
   "display_name": "Python 3",
   "language": "python",
   "name": "python3"
  },
  "language_info": {
   "codemirror_mode": {
    "name": "ipython",
    "version": 3
   },
   "file_extension": ".py",
   "mimetype": "text/x-python",
   "name": "python",
   "nbconvert_exporter": "python",
   "pygments_lexer": "ipython3",
   "version": "3.6.3"
  }
 },
 "nbformat": 4,
 "nbformat_minor": 1
}
