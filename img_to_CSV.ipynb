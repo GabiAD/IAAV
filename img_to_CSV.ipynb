{
 "cells": [
  {
   "cell_type": "code",
   "execution_count": 42,
   "metadata": {},
   "outputs": [
    {
     "name": "stdout",
     "output_type": "stream",
     "text": [
      "Writing complete\n"
     ]
    }
   ],
   "source": [
    "import csv\n",
    "from os import listdir\n",
    "from os.path import isfile, join\n",
    "from PIL import Image\n",
    "\n",
    "WIDER_PATH = 'WIDER_val/'\n",
    "directories = [join(WIDER_PATH, f) for f in listdir(WIDER_PATH)]\n",
    "imgs = [listdir(d) for d in directories]\n",
    "\n",
    "with open('val_CSV.csv', 'w') as csvfile:\n",
    "    fieldnames = ['filename', 'width', 'height', 'class', 'xmin', 'ymin', 'xmax', 'ymax']\n",
    "    writer = csv.DictWriter(csvfile, fieldnames=fieldnames)\n",
    "    writer.writeheader()\n",
    "        \n",
    "    with open('./wider_face_split/wider_face_val_bbx_gt.txt') as f:\n",
    "        while True:\n",
    "            file_name = f.readline()\n",
    "            if not file_name: \n",
    "                break\n",
    "\n",
    "            file_name = file_name.strip()\n",
    "\n",
    "            num_bbxs = int(f.readline())\n",
    "\n",
    "            for i in range(num_bbxs):\n",
    "                bbx_line = f.readline().split(' ')\n",
    "                bbx = {'x': int(bbx_line[0]), 'y': int(bbx_line[1]), 'w': int(bbx_line[2]), 'h': int(bbx_line[3])}\n",
    "\n",
    "                img_name = join(WIDER_PATH, file_name);\n",
    "                im = Image.open(img_name)\n",
    "                im_width, im_height = im.size\n",
    "\n",
    "                writer.writerow({\n",
    "                    'filename': img_name,\n",
    "                    'width': im_width,\n",
    "                    'height': im_height,\n",
    "                    'class': 'face',\n",
    "                    'xmin': bbx['x'],\n",
    "                    'ymin': bbx['y'],\n",
    "                    'xmax': bbx['x'] + bbx['w'],\n",
    "                    'ymax': bbx['y'] + bbx['h']\n",
    "                })\n",
    " \n",
    "print(\"Writing complete\")"
   ]
  },
  {
   "cell_type": "code",
   "execution_count": null,
   "metadata": {
    "collapsed": true
   },
   "outputs": [],
   "source": []
  }
 ],
 "metadata": {
  "kernelspec": {
   "display_name": "Python 3",
   "language": "python",
   "name": "python3"
  },
  "language_info": {
   "codemirror_mode": {
    "name": "ipython",
    "version": 3
   },
   "file_extension": ".py",
   "mimetype": "text/x-python",
   "name": "python",
   "nbconvert_exporter": "python",
   "pygments_lexer": "ipython3",
   "version": "3.6.3"
  }
 },
 "nbformat": 4,
 "nbformat_minor": 2
}
