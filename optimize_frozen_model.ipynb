{
 "cells": [
  {
   "cell_type": "code",
   "execution_count": 2,
   "metadata": {},
   "outputs": [
    {
     "name": "stdout",
     "output_type": "stream",
     "text": [
      "WARNING:tensorflow:Didn't find expected Conv2D input to 'CifarNet/Conv/BatchNorm/cond/FusedBatchNorm'\n",
      "WARNING:tensorflow:Didn't find expected Conv2D input to 'CifarNet/Conv/BatchNorm/cond/FusedBatchNorm_1'\n",
      "WARNING:tensorflow:Didn't find expected Conv2D input to 'CifarNet/Conv_1/BatchNorm/cond/FusedBatchNorm'\n",
      "WARNING:tensorflow:Didn't find expected Conv2D input to 'CifarNet/Conv_1/BatchNorm/cond/FusedBatchNorm_1'\n",
      "WARNING:tensorflow:Didn't find expected Conv2D input to 'CifarNet/Conv_2/BatchNorm/cond/FusedBatchNorm'\n",
      "WARNING:tensorflow:Didn't find expected Conv2D input to 'CifarNet/Conv_2/BatchNorm/cond/FusedBatchNorm_1'\n",
      "WARNING:tensorflow:Didn't find expected Conv2D input to 'CifarNet/Conv_3/BatchNorm/cond/FusedBatchNorm'\n",
      "WARNING:tensorflow:Didn't find expected Conv2D input to 'CifarNet/Conv_3/BatchNorm/cond/FusedBatchNorm_1'\n",
      "WARNING:tensorflow:Didn't find expected Conv2D input to 'CifarNet/Conv_4/BatchNorm/cond/FusedBatchNorm'\n",
      "WARNING:tensorflow:Didn't find expected Conv2D input to 'CifarNet/Conv_4/BatchNorm/cond/FusedBatchNorm_1'\n",
      "WARNING:tensorflow:Didn't find expected Conv2D input to 'CifarNet/Conv_5/BatchNorm/cond/FusedBatchNorm'\n",
      "WARNING:tensorflow:Didn't find expected Conv2D input to 'CifarNet/Conv_5/BatchNorm/cond/FusedBatchNorm_1'\n",
      "WARNING:tensorflow:Didn't find expected Conv2D input to 'CifarNet/Conv_6/BatchNorm/cond/FusedBatchNorm'\n",
      "WARNING:tensorflow:Didn't find expected Conv2D input to 'CifarNet/Conv_6/BatchNorm/cond/FusedBatchNorm_1'\n",
      "WARNING:tensorflow:Didn't find expected Conv2D input to 'CifarNet/Conv_7/BatchNorm/cond/FusedBatchNorm'\n",
      "WARNING:tensorflow:Didn't find expected Conv2D input to 'CifarNet/Conv_7/BatchNorm/cond/FusedBatchNorm_1'\n",
      "WARNING:tensorflow:Didn't find expected Conv2D input to 'CifarNet/Conv_8/BatchNorm/cond/FusedBatchNorm'\n",
      "WARNING:tensorflow:Didn't find expected Conv2D input to 'CifarNet/Conv_8/BatchNorm/cond/FusedBatchNorm_1'\n",
      "WARNING:tensorflow:Didn't find expected Conv2D input to 'CifarNet/Conv_9/BatchNorm/cond/FusedBatchNorm'\n",
      "WARNING:tensorflow:Didn't find expected Conv2D input to 'CifarNet/Conv_9/BatchNorm/cond/FusedBatchNorm_1'\n"
     ]
    }
   ],
   "source": [
    "import numpy as np\n",
    "import os\n",
    "import six.moves.urllib as urllib\n",
    "import sys\n",
    "import tarfile\n",
    "import tensorflow as tf\n",
    "import zipfile\n",
    "\n",
    "from tensorflow.python.tools import freeze_graph\n",
    "from tensorflow.python.tools import optimize_for_inference_lib\n",
    "\n",
    "output_frozen_graph_name = \"./eye_regression_model.pb\"\n",
    "output_optimized_graph_name = \"./optimized_eye_regression_model.pb\"\n",
    "\n",
    "detection_graph = tf.Graph()\n",
    "with detection_graph.as_default():\n",
    "  od_graph_def = tf.GraphDef()\n",
    "  with tf.gfile.GFile(output_frozen_graph_name, 'rb') as fid:\n",
    "    serialized_graph = fid.read()\n",
    "    od_graph_def.ParseFromString(serialized_graph)\n",
    "    tf.import_graph_def(od_graph_def, name='')\n",
    "\n",
    "input_graph_def = tf.GraphDef()\n",
    "with tf.gfile.Open(output_frozen_graph_name, \"rb\") as f:\n",
    "    data = f.read()\n",
    "    input_graph_def.ParseFromString(data)\n",
    "\n",
    "output_graph_def = optimize_for_inference_lib.optimize_for_inference(\n",
    "        input_graph_def,\n",
    "        [\"image_input\"], # an array of the input node(s)\n",
    "        [\"CifarNet/eye_coordinates\"], # an array of output nodes\n",
    "        tf.float32.as_datatype_enum)\n",
    "\n",
    "# Save the optimized graph\n",
    "\n",
    "f = tf.gfile.FastGFile(output_optimized_graph_name, \"wb\")\n",
    "f.write(output_graph_def.SerializeToString())"
   ]
  }
 ],
 "metadata": {
  "kernelspec": {
   "display_name": "Python 3",
   "language": "python",
   "name": "python3"
  },
  "language_info": {
   "codemirror_mode": {
    "name": "ipython",
    "version": 3
   },
   "file_extension": ".py",
   "mimetype": "text/x-python",
   "name": "python",
   "nbconvert_exporter": "python",
   "pygments_lexer": "ipython3",
   "version": "3.6.3"
  }
 },
 "nbformat": 4,
 "nbformat_minor": 2
}
