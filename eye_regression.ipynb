{
 "cells": [
  {
   "cell_type": "code",
   "execution_count": 1,
   "metadata": {
    "colab": {
     "autoexec": {
      "startup": false,
      "wait_interval": 0
     },
     "base_uri": "https://localhost:8080/",
     "height": 105
    },
    "colab_type": "code",
    "executionInfo": {
     "elapsed": 20664,
     "status": "ok",
     "timestamp": 1523695066234,
     "user": {
      "displayName": "Gabriel Andrei",
      "photoUrl": "https://lh3.googleusercontent.com/a/default-user=s128",
      "userId": "104453749357877089552"
     },
     "user_tz": -180
    },
    "id": "D0SetJ-pNrAn",
    "outputId": "88ae9be8-79bc-4a5e-8a11-4dbc0ff83906"
   },
   "outputs": [
    {
     "name": "stdout",
     "output_type": "stream",
     "text": [
      "Please, open the following URL in a web browser: https://accounts.google.com/o/oauth2/auth?client_id=32555940559.apps.googleusercontent.com&redirect_uri=urn%3Aietf%3Awg%3Aoauth%3A2.0%3Aoob&scope=https%3A%2F%2Fwww.googleapis.com%2Fauth%2Fdrive&response_type=code&access_type=offline&approval_prompt=force\r\n",
      "··········\n",
      "Please, open the following URL in a web browser: https://accounts.google.com/o/oauth2/auth?client_id=32555940559.apps.googleusercontent.com&redirect_uri=urn%3Aietf%3Awg%3Aoauth%3A2.0%3Aoob&scope=https%3A%2F%2Fwww.googleapis.com%2Fauth%2Fdrive&response_type=code&access_type=offline&approval_prompt=force\n",
      "Please enter the verification code: Access token retrieved correctly.\n"
     ]
    }
   ],
   "source": [
    "!apt-get install -y -qq software-properties-common python-software-properties module-init-tools\n",
    "!add-apt-repository -y ppa:alessandro-strada/ppa 2>&1 > /dev/null\n",
    "!apt-get update -qq 2>&1 > /dev/null\n",
    "!apt-get -y install -qq google-drive-ocamlfuse fuse\n",
    "from google.colab import auth\n",
    "auth.authenticate_user()\n",
    "from oauth2client.client import GoogleCredentials\n",
    "creds = GoogleCredentials.get_application_default()\n",
    "import getpass\n",
    "!google-drive-ocamlfuse -headless -id={creds.client_id} -secret={creds.client_secret} < /dev/null 2>&1 | grep URL\n",
    "vcode = getpass.getpass()\n",
    "!echo {vcode} | google-drive-ocamlfuse -headless -id={creds.client_id} -secret={creds.client_secret}\n",
    "\n",
    "!mkdir -p drive\n",
    "!google-drive-ocamlfuse drive"
   ]
  },
  {
   "cell_type": "markdown",
   "metadata": {
    "colab_type": "text",
    "id": "T5ja2vEKMGyp"
   },
   "source": [
    "## Load dataset"
   ]
  },
  {
   "cell_type": "code",
   "execution_count": 2,
   "metadata": {
    "colab": {
     "autoexec": {
      "startup": false,
      "wait_interval": 0
     },
     "base_uri": "https://localhost:8080/",
     "height": 34
    },
    "colab_type": "code",
    "executionInfo": {
     "elapsed": 1650,
     "status": "ok",
     "timestamp": 1523695068105,
     "user": {
      "displayName": "Gabriel Andrei",
      "photoUrl": "https://lh3.googleusercontent.com/a/default-user=s128",
      "userId": "104453749357877089552"
     },
     "user_tz": -180
    },
    "id": "eHPJMrd5uCbc",
    "outputId": "9edd8a99-c67e-4409-90c8-b3a6f7f15bff"
   },
   "outputs": [
    {
     "name": "stdout",
     "output_type": "stream",
     "text": [
      "datalab  drive\r\n"
     ]
    }
   ],
   "source": [
    "!ls"
   ]
  },
  {
   "cell_type": "code",
   "execution_count": 0,
   "metadata": {
    "colab": {
     "autoexec": {
      "startup": false,
      "wait_interval": 0
     }
    },
    "colab_type": "code",
    "collapsed": true,
    "id": "TjodQ6lyxhFG"
   },
   "outputs": [],
   "source": [
    "import numpy as np\n",
    "import cv2\n",
    "\n",
    "images_train = np.load('/content/drive/cropped_eyes_training.npy')\n",
    "cls_train = np.load('/content/drive/cropped_eyes_training_scores.npy')\n",
    "\n",
    "images_test = np.load('/content/drive/cropped_eyes_testing.npy')\n",
    "cls_test = np.load('/content/drive/cropped_eyes_testing_scores.npy')\n",
    "\n",
    "for i in range(len(images_train)):\n",
    "  images_train[i] = (cv2.resize(images_train[i], dsize=(384, 128))).tolist()\n",
    "  \n",
    "for i in range(len(images_test)):\n",
    "  images_test[i] = cv2.resize(images_test[i], dsize=(384, 128))\n",
    "  \n",
    "y_train = np.asarray(cls_train)\n",
    "y_test = np.asarray(cls_test)\n",
    "\n",
    "X_train = images_train\n",
    "X_test = images_test\n",
    "\n",
    "X_train = np.asarray(X_train.tolist())\n",
    "X_test = np.asarray(X_test.tolist())\n",
    "\n",
    "images_test = X_test\n",
    "images_train = X_train\n",
    "cls_train = y_train\n",
    "cls_test = y_test"
   ]
  },
  {
   "cell_type": "markdown",
   "metadata": {
    "colab_type": "text",
    "id": "3_Y3I-W2vkUG"
   },
   "source": []
  },
  {
   "cell_type": "code",
   "execution_count": 4,
   "metadata": {
    "colab": {
     "autoexec": {
      "startup": false,
      "wait_interval": 0
     },
     "base_uri": "https://localhost:8080/",
     "height": 34
    },
    "colab_type": "code",
    "executionInfo": {
     "elapsed": 582,
     "status": "ok",
     "timestamp": 1523695136113,
     "user": {
      "displayName": "Gabriel Andrei",
      "photoUrl": "https://lh3.googleusercontent.com/a/default-user=s128",
      "userId": "104453749357877089552"
     },
     "user_tz": -180
    },
    "id": "u64mdEtrDQSS",
    "outputId": "508754d2-f02c-426e-db55-8025f3cb51a7"
   },
   "outputs": [
    {
     "data": {
      "text/plain": [
       "(953, 2)"
      ]
     },
     "execution_count": 4,
     "metadata": {
      "tags": []
     },
     "output_type": "execute_result"
    }
   ],
   "source": [
    "y_train.shape"
   ]
  },
  {
   "cell_type": "code",
   "execution_count": 0,
   "metadata": {
    "colab": {
     "autoexec": {
      "startup": false,
      "wait_interval": 0
     }
    },
    "colab_type": "code",
    "collapsed": true,
    "id": "2I1HjPlIyBbS"
   },
   "outputs": [],
   "source": [
    "%matplotlib inline\n",
    "import matplotlib.pyplot as plt\n",
    "import tensorflow as tf\n",
    "import numpy as np\n",
    "from sklearn.metrics import confusion_matrix\n",
    "import time\n",
    "from datetime import timedelta\n",
    "import math\n",
    "import os"
   ]
  },
  {
   "cell_type": "markdown",
   "metadata": {
    "colab_type": "text",
    "id": "ptJWMdiOPNhp"
   },
   "source": [
    "## Define model"
   ]
  },
  {
   "cell_type": "code",
   "execution_count": 0,
   "metadata": {
    "colab": {
     "autoexec": {
      "startup": false,
      "wait_interval": 0
     }
    },
    "colab_type": "code",
    "collapsed": true,
    "id": "jrCKThG-182E"
   },
   "outputs": [],
   "source": [
    "import tensorflow as tf\n",
    "\n",
    "slim = tf.contrib.slim\n",
    "trunc_normal = lambda stddev: tf.truncated_normal_initializer(stddev=stddev)"
   ]
  },
  {
   "cell_type": "code",
   "execution_count": 0,
   "metadata": {
    "colab": {
     "autoexec": {
      "startup": false,
      "wait_interval": 0
     }
    },
    "colab_type": "code",
    "collapsed": true,
    "id": "UWpfvUgN2XKz"
   },
   "outputs": [],
   "source": [
    "def eyenet_arg_scope(weight_decay=0.004, is_training=True):\n",
    "    \n",
    "  with slim.arg_scope(\n",
    "      [slim.conv2d],\n",
    "      weights_initializer=tf.truncated_normal_initializer(stddev=5e-2),\n",
    "      activation_fn=tf.nn.relu):\n",
    "    with slim.arg_scope(\n",
    "        [slim.fully_connected],\n",
    "        biases_initializer=tf.constant_initializer(0.1),\n",
    "        weights_initializer=trunc_normal(0.04),\n",
    "        weights_regularizer=slim.l2_regularizer(weight_decay),\n",
    "        normalizer_fn=None,\n",
    "        activation_fn=tf.nn.relu) as sc:\n",
    "      return sc\n"
   ]
  },
  {
   "cell_type": "code",
   "execution_count": 0,
   "metadata": {
    "colab": {
     "autoexec": {
      "startup": false,
      "wait_interval": 0
     }
    },
    "colab_type": "code",
    "collapsed": true,
    "id": "xAVxGR2EhDKV"
   },
   "outputs": [],
   "source": [
    "def eyecropnet_arg_scope_bnorm(weight_decay=0.004, is_training=True):\n",
    "  \n",
    "  batch_norm_params = {\n",
    "      'is_training': is_training,\n",
    "      'center': True,\n",
    "      'scale': True,\n",
    "      'decay': 0.997,\n",
    "      'epsilon': 0.001,\n",
    "  }\n",
    "  \n",
    "  with slim.arg_scope(\n",
    "      [slim.conv2d],\n",
    "      # weights_initializer=tf.truncated_normal_initializer(stddev=5e-2),\n",
    "      weights_initializer=tf.contrib.layers.xavier_initializer_conv2d(),\n",
    "      activation_fn=tf.nn.relu6,\n",
    "      normalizer_fn=slim.batch_norm):\n",
    "    with slim.arg_scope([slim.batch_norm], **batch_norm_params):\n",
    "      with slim.arg_scope(\n",
    "          [slim.fully_connected],\n",
    "          biases_initializer=tf.constant_initializer(0.1),\n",
    "          # weights_initializer=trunc_normal(0.04),\n",
    "          weights_initializer=tf.contrib.layers.xavier_initializer(),\n",
    "          weights_regularizer=slim.l2_regularizer(weight_decay),\n",
    "\n",
    "          activation_fn=tf.nn.relu) as sc:\n",
    "         \n",
    "          return sc\n"
   ]
  },
  {
   "cell_type": "code",
   "execution_count": 0,
   "metadata": {
    "colab": {
     "autoexec": {
      "startup": false,
      "wait_interval": 0
     }
    },
    "colab_type": "code",
    "collapsed": true,
    "id": "oOKURdnR1HKy"
   },
   "outputs": [],
   "source": [
    "trunc_normal = lambda stddev: tf.truncated_normal_initializer(stddev=stddev)\n",
    "\n",
    "def eyecropnet_bn(images, num_classes=2, is_training=False,\n",
    "             dropout_keep_prob=0.5,\n",
    "             prediction_fn=tf.identity, # slim.softmax,\n",
    "             scope='EyeCropNet'):\n",
    " \n",
    "  end_points = {}\n",
    "\n",
    "  with tf.variable_scope(scope, 'EyeCropNet', [images]):\n",
    "    \n",
    "    net = slim.conv2d(images, 32, [3, 3], stride=2, padding='SAME')\n",
    "    net = slim.separable_conv2d(net, None, [3,3], stride=1, depth_multiplier=1, padding = 'SAME')\n",
    "#     net = tf.nn.depthwise_conv2d(net, [3, 3, 32, 1], strides = [1,1,1,1], padding = 'SAME')\n",
    "    \n",
    "    net = slim.conv2d(net, 64, [1, 1], stride=1, padding='SAME')\n",
    "    net = slim.separable_conv2d(net, None, [3,3], stride=2, depth_multiplier=1, padding = 'SAME')\n",
    "#     net = tf.nn.depthwise_conv2d(net, [3, 3, 64, 1], strides = [1,2,2,1], padding = 'SAME')\n",
    "    \n",
    "    net = slim.conv2d(net, 128, [1, 1], stride=1, padding='SAME')\n",
    "    net = slim.separable_conv2d(net, None, [3,3], stride=1, depth_multiplier=1, padding = 'SAME')\n",
    "#     net = tf.nn.depthwise_conv2d(net, [3, 3, 128, 1], strides = [1,1,1,1], padding = 'SAME')\n",
    "    \n",
    "    net = slim.conv2d(net, 128, [1, 1], stride=1, padding='SAME')\n",
    "    net = slim.separable_conv2d(net, None, [3,3], stride=2, depth_multiplier=1, padding = 'SAME')\n",
    "#     net = tf.nn.depthwise_conv2d(net, [3, 3, 128, 1], strides = [1,2,2,1], padding = 'SAME')\n",
    "    \n",
    "    net = slim.conv2d(net, 256, [1, 1], stride=1, padding='SAME')\n",
    "    net = slim.separable_conv2d(net, None, [3,3], stride=1, depth_multiplier=1, padding = 'SAME')\n",
    "#     net = tf.nn.depthwise_conv2d(net, [3, 3, 256, 1], strides = [1,1,1,1], padding = 'SAME')\n",
    "    \n",
    "    net = slim.conv2d(net, 256, [1, 1], stride=1, padding='SAME')\n",
    "    net = slim.separable_conv2d(net, None, [3,3], stride=2, depth_multiplier=1, padding = 'SAME')\n",
    "#     net = tf.nn.depthwise_conv2d(net, [3, 3, 256, 1], strides = [1,2,2,1], padding = 'SAME')\n",
    "    \n",
    "    net = slim.conv2d(net, 512, [1, 1], stride=1, padding='SAME')\n",
    "    \n",
    "    net = slim.separable_conv2d(net, None, [3,3], stride=1, depth_multiplier=1, padding = 'SAME')\n",
    "####     net = tf.nn.depthwise_conv2d(net, [3, 3, 512, 1], strides = [1,1,1,1], padding = 'SAME')\n",
    "###    net = slim.conv2d(net, 512, [1, 1], stride=1, padding='SAME')\n",
    "###    net = slim.separable_conv2d(net, None, [3,3], stride=1, depth_multiplier=1, padding = 'SAME')\n",
    "####     net = tf.nn.depthwise_conv2d(net, [3, 3, 512, 1], strides = [1,1,1,1], padding = 'SAME')\n",
    "###    net = slim.conv2d(net, 512, [1, 1], stride=1, padding='SAME')\n",
    "###    net = slim.separable_conv2d(net, None, [3,3], stride=1, depth_multiplier=1, padding = 'SAME')\n",
    "####     net = tf.nn.depthwise_conv2d(net, [3, 3, 512, 1], strides = [1,1,1,1], padding = 'SAME')\n",
    "###    net = slim.conv2d(net, 512, [1, 1], stride=1, padding='SAME')\n",
    "###    net = slim.separable_conv2d(net, None, [3,3], stride=1, depth_multiplier=1, padding = 'SAME')\n",
    "####     net = tf.nn.depthwise_conv2d(net, [3, 3, 512, 1], strides = [1,1,1,1], padding = 'SAME')\n",
    "###    net = slim.conv2d(net, 512, [1, 1], stride=1, padding='SAME')\n",
    "###    net = slim.separable_conv2d(net, None, [3,3], stride=1, depth_multiplier=1, padding = 'SAME')\n",
    "####     net = tf.nn.depthwise_conv2d(net, [3, 3, 512, 1], strides = [1,1,1,1], padding = 'SAME')\n",
    "    net = slim.conv2d(net, 512, [1, 1], stride=1, padding='SAME')\n",
    "    \n",
    "    net = slim.separable_conv2d(net, None, [3,3], stride=2, depth_multiplier=1, padding = 'SAME')\n",
    "#     net = tf.nn.depthwise_conv2d(net, [3, 3, 512, 1], strides = [1,2,2,1], padding = 'SAME')\n",
    "    net = slim.conv2d(net, 1024, [1, 1], stride=1, padding='SAME')\n",
    "    \n",
    "    net = slim.separable_conv2d(net, None, [3,3], stride=1, depth_multiplier=1, padding = 'SAME') #stride = 2\n",
    "#     net = tf.nn.depthwise_conv2d(net, [3, 3, 1024, 1], strides = [1,2,2,1], padding = 'SAME')\n",
    "    net = slim.conv2d(net, 1024, [1, 1], stride=1, padding='SAME')\n",
    "    \n",
    "    net = slim.avg_pool2d(net, [4, 12], stride=1)\n",
    "    end_points['avgpool'] = net\n",
    "    \n",
    "    net = slim.flatten(net)\n",
    "    end_points['flatten'] = net\n",
    "\n",
    "    net = slim.dropout(net, dropout_keep_prob, is_training=is_training)\n",
    "    \n",
    "    logits = slim.fully_connected(net, num_classes,\n",
    "                                  biases_initializer=tf.zeros_initializer(),\n",
    "                                  # weights_initializer=trunc_normal(1/50.0),\n",
    "                                  weights_initializer=tf.contrib.layers.xavier_initializer(),\n",
    "                                  weights_regularizer=None,\n",
    "                                  activation_fn=None,\n",
    "                                  scope='logits')\n",
    "    \n",
    "    logits = tf.identity(logits, name='eye_coordinates')\n",
    "    \n",
    "    end_points['Logits'] = logits\n",
    "    end_points['Predictions'] = prediction_fn(logits)\n",
    "\n",
    "  return logits, end_points"
   ]
  },
  {
   "cell_type": "code",
   "execution_count": 0,
   "metadata": {
    "colab": {
     "autoexec": {
      "startup": false,
      "wait_interval": 0
     }
    },
    "colab_type": "code",
    "collapsed": true,
    "id": "r4Be5RPN3vji"
   },
   "outputs": [],
   "source": [
    "# parametri de training si input\n",
    "batch_size = 12\n",
    "height = 128\n",
    "width = 384\n",
    "channels = 3\n",
    "num_classes = 2\n",
    "initial_learning_rate = 1e-4"
   ]
  },
  {
   "cell_type": "markdown",
   "metadata": {
    "colab_type": "text",
    "id": "4VvaEQ1xJnBx"
   },
   "source": [
    "### Adaugarea conexiunilor de intrare. tf.placeholders"
   ]
  },
  {
   "cell_type": "code",
   "execution_count": 0,
   "metadata": {
    "colab": {
     "autoexec": {
      "startup": false,
      "wait_interval": 0
     }
    },
    "colab_type": "code",
    "collapsed": true,
    "id": "K_UnNVVv3qCT"
   },
   "outputs": [],
   "source": [
    "    import random    \n",
    "    \n",
    "    def add_preprocessing(image_input, is_training):\n",
    "      \n",
    "#        def _process_image(image):\n",
    "#            # Because these operations are not commutative, consider randomizing\n",
    "#            # randomize the order their operation.\n",
    "            \n",
    "#            augment_level = random.randint(0,3)\n",
    "#            if augment_level > 0:\n",
    "#                image = tf.image.random_brightness(image, max_delta=30)\n",
    "#                image = tf.image.random_contrast(image, lower=0.75, upper=1.25)\n",
    "#            if augment_level > 1:\n",
    "#                image = tf.image.random_saturation(image, lower=0.5, upper=1.6)\n",
    "#                image = tf.image.random_hue(image, max_delta=0.15)\n",
    "#            image = tf.minimum(image, 255.0)\n",
    "#            image = tf.maximum(image, 0)\n",
    "#            return image\n",
    "\n",
    "        def _process_image(image):\n",
    "            # Because these operations are not commutative, consider randomizing\n",
    "            # randomize the order their operation.\n",
    "\n",
    "            augment_level = random.randint(0,2)\n",
    "\n",
    "            if augment_level > 0:\n",
    "                r = random.randint(0,1)\n",
    "                if r == 1:\n",
    "                  image = tf.image.random_brightness(image, max_delta=30)\n",
    "                  # image = tf.image.random_contrast(image, lower=0.75, upper=1.25)\n",
    "                else:\n",
    "                  # image = tf.image.random_contrast(image, lower=0.75, upper=1.25)\n",
    "                  image = tf.image.random_brightness(image, max_delta=30)\n",
    "            if augment_level > 1:\n",
    "                r = random.randint(0,1)\n",
    "                if r == 1:\n",
    "                  image = tf.image.random_saturation(image, lower=0.5, upper=1.6)\n",
    "                  image = tf.image.random_hue(image, max_delta=0.15)\n",
    "                else:\n",
    "                  image = tf.image.random_hue(image, max_delta=0.15)\n",
    "                  image = tf.image.random_saturation(image, lower=0.5, upper=1.6)\n",
    "\n",
    "            image = tf.minimum(image, 255.0)\n",
    "            image = tf.maximum(image, 0)\n",
    "            return image\n",
    "\n",
    "        def _preprocess_train(input_tensor):\n",
    "#             input_tensor = tf.image.random_flip_left_right(input_tensor)\n",
    "#             input_tensor = input_tensor * 255.0\n",
    "            input_tensor = _process_image(input_tensor)\n",
    "#             input_tensor = tf.scalar_mul(1.0 / 255, input_tensor)\n",
    "\n",
    "            input_tensor = tf.subtract(input_tensor, 0.5)\n",
    "            input_tensor = tf.multiply(input_tensor, 2.0)\n",
    "            # input_tensor = tf.Print(input_tensor, [], \"there\")\n",
    "\n",
    "#             cropped_input_tensor = tf.random_crop(input_tensor, [28,28,3])\n",
    "      \n",
    "#             return cropped_input_tensor\n",
    "            return input_tensor\n",
    "          \n",
    "        def _preprocess_test(input_tensor):\n",
    "            # input_tensor = tf.scalar_mul(1.0 / 255, input_tensor)\n",
    "            input_tensor = tf.subtract(input_tensor, 0.5)\n",
    "            input_tensor = tf.multiply(input_tensor, 2.0)\n",
    "            # input_tensor = tf.Print(input_tensor, [], \"here\")\n",
    "            \n",
    "#             cropped_input_tensor = tf.image.central_crop(input_tensor, 0.875)\n",
    "            \n",
    "  \n",
    "#             cropped_input_tensor = input_tensor[2:30,2:30,:]\n",
    "#             return cropped_input_tensor\n",
    "            return input_tensor\n",
    "          \n",
    "        preprocessed_input = tf.map_fn(lambda img:\n",
    "                                 tf.cond(\n",
    "                                   tf.equal(\n",
    "                                        is_training,\n",
    "                                     tf.constant(True)),\n",
    "                                    lambda: _preprocess_train(img),\n",
    "                                    lambda: _preprocess_test(img)), image_input)\n",
    "\n",
    "        return preprocessed_input\n",
    "          \n",
    "        \n",
    "    def add_placeholders():\n",
    "              # image batch input\n",
    "        image_input = tf.placeholder(\n",
    "            tf.float32, [None, None, None, 3],\n",
    "            name='image_input'\n",
    "        )\n",
    "        \n",
    "        image_input = tf.image.resize_images(image_input, [height, width])\n",
    "\n",
    "        label_input = tf.placeholder(\n",
    "            tf.int64, [None, 2],\n",
    "            name='label_input'\n",
    "        )\n",
    "        \n",
    "        is_training = tf.placeholder(tf.bool, name='is_training')\n",
    "        \n",
    "        learning_rate = tf.placeholder(tf.float32, shape=[])\n",
    "        \n",
    "        return image_input, label_input, is_training, learning_rate\n"
   ]
  },
  {
   "cell_type": "code",
   "execution_count": 0,
   "metadata": {
    "colab": {
     "autoexec": {
      "startup": false,
      "wait_interval": 0
     }
    },
    "colab_type": "code",
    "collapsed": true,
    "id": "LMtvX9xwASl8"
   },
   "outputs": [],
   "source": [
    "def random_batch(img, labels, bsize=32):\n",
    "    # Number of images in the training-set.\n",
    "    num_images = len(img)\n",
    "    #     print(num_images)\n",
    "\n",
    "    # Create a random index.\n",
    "    idx = np.random.choice(num_images,\n",
    "                           size=bsize,\n",
    "                           replace=False)\n",
    "\n",
    "    # Use the random index to select random images and labels.\n",
    "    x_batch = img[idx, :, :, :]\n",
    "    y_batch = labels[idx]\n",
    "\n",
    "    return x_batch, y_batch"
   ]
  },
  {
   "cell_type": "code",
   "execution_count": 14,
   "metadata": {
    "colab": {
     "autoexec": {
      "startup": false,
      "wait_interval": 0
     },
     "base_uri": "https://localhost:8080/",
     "height": 51
    },
    "colab_type": "code",
    "executionInfo": {
     "elapsed": 513,
     "status": "ok",
     "timestamp": 1523695155520,
     "user": {
      "displayName": "Gabriel Andrei",
      "photoUrl": "https://lh3.googleusercontent.com/a/default-user=s128",
      "userId": "104453749357877089552"
     },
     "user_tz": -180
    },
    "id": "kicRVSn9AWzZ",
    "outputId": "ef4bbaec-ae71-4a61-d69b-e7947d97c340"
   },
   "outputs": [
    {
     "name": "stdout",
     "output_type": "stream",
     "text": [
      "130\n"
     ]
    },
    {
     "data": {
      "text/plain": [
       "(32, 2)"
      ]
     },
     "execution_count": 14,
     "metadata": {
      "tags": []
     },
     "output_type": "execute_result"
    }
   ],
   "source": [
    "print(X_train[0,1,2,1])\n",
    "\n",
    "x, y = random_batch(X_train, y_train)\n",
    "\n",
    "y.shape"
   ]
  },
  {
   "cell_type": "code",
   "execution_count": 15,
   "metadata": {
    "colab": {
     "autoexec": {
      "startup": false,
      "wait_interval": 0
     },
     "base_uri": "https://localhost:8080/",
     "height": 51
    },
    "colab_type": "code",
    "executionInfo": {
     "elapsed": 470,
     "status": "ok",
     "timestamp": 1523695156377,
     "user": {
      "displayName": "Gabriel Andrei",
      "photoUrl": "https://lh3.googleusercontent.com/a/default-user=s128",
      "userId": "104453749357877089552"
     },
     "user_tz": -180
    },
    "id": "H68HVlnossrZ",
    "outputId": "e9d26a5e-cbab-4183-cecf-d66591940d47"
   },
   "outputs": [
    {
     "name": "stdout",
     "output_type": "stream",
     "text": [
      "(32, 128, 384, 3)\n",
      "(32, 2)\n"
     ]
    }
   ],
   "source": [
    "def get_batch(imgs, labels, step, bsize=32):\n",
    "  offset = (step * batch_size) % (labels.shape[0] - batch_size)\n",
    "#   print(offset)\n",
    "  batch_imgs = imgs[offset:(offset + bsize), :, :, :]\n",
    "  batch_labels = labels[offset:(offset + bsize)]\n",
    "  \n",
    "  return batch_imgs, batch_labels\n",
    "  \n",
    "batch_imgs, batch_labels = get_batch(images_test, cls_test, 2)\n",
    "  \n",
    "print(batch_imgs.shape)\n",
    "print(batch_labels.shape)\n",
    "  "
   ]
  },
  {
   "cell_type": "markdown",
   "metadata": {
    "colab_type": "text",
    "id": "1RPubRTLKc0k"
   },
   "source": [
    "### Functie pentru evaluare acuratete"
   ]
  },
  {
   "cell_type": "code",
   "execution_count": 0,
   "metadata": {
    "colab": {
     "autoexec": {
      "startup": false,
      "wait_interval": 0
     }
    },
    "colab_type": "code",
    "collapsed": true,
    "id": "YA_L36h0ay7X"
   },
   "outputs": [],
   "source": [
    "#evaluate model\n",
    "\n",
    "\n",
    "def evaluate():\n",
    "  bsize = 32\n",
    "  total_examples = cls_test.shape[0]  \n",
    "  iters = int(total_examples/bsize)\n",
    "#   print(\"Total examples {}\".format(total_examples))\n",
    "#   print(\"Total iters {}\".format(iters))\n",
    "  \n",
    "  \n",
    "  acc = []\n",
    "  losses = []\n",
    "    \n",
    "  for i in range(iters):\n",
    "    \n",
    "    x, y = get_batch(images_test, cls_test, i, bsize)\n",
    "\n",
    "    feed_dict = {\n",
    "\n",
    "        image_input: x,\n",
    "        label_input: y,\n",
    "        is_training: False\n",
    "\n",
    "    }\n",
    "\n",
    "    testAcc, testLoss = sess.run([accuracy, loss], feed_dict=feed_dict)\n",
    "    acc.append(testAcc)\n",
    "    losses.append(testLoss)\n",
    "    if i % 100 == 0:\n",
    "      print(\"Test \" + str(i) + \": accuracy:\" + str(testAcc) + \" loss: \" + str(testLoss))\n",
    "    \n",
    "      \n",
    "#   print(acc)\n",
    "  meanAcc = np.mean(np.asarray(acc))\n",
    "  meanLoss = np.mean(np.asarray(losses))\n",
    "  \n",
    "#   print(\"Test Accuracy {:.2f} %\".format(meanAcc * 100))\n",
    "  \n",
    "  return meanAcc, meanLoss\n",
    "  \n",
    "  \n",
    "#evaluate()               \n"
   ]
  },
  {
   "cell_type": "code",
   "execution_count": 0,
   "metadata": {
    "colab": {
     "autoexec": {
      "startup": false,
      "wait_interval": 0
     }
    },
    "colab_type": "code",
    "collapsed": true,
    "id": "t094SL0wKuuT"
   },
   "outputs": [],
   "source": [
    "trainingAccuracyList = []\n",
    "trainingLossList = []\n",
    "testAccuracyList = []\n",
    "testLossList = []\n",
    "learningRateList = []"
   ]
  },
  {
   "cell_type": "code",
   "execution_count": 0,
   "metadata": {
    "colab": {
     "autoexec": {
      "startup": false,
      "wait_interval": 0
     }
    },
    "colab_type": "code",
    "collapsed": true,
    "id": "-UUqX-AVCeWF"
   },
   "outputs": [],
   "source": [
    "tf.reset_default_graph()\n",
    "\n",
    "g = tf.Graph().as_default()\n",
    "image_input, label_input, is_training, learning_rate = add_placeholders()\n",
    "preprocessed_image_input = add_preprocessing(image_input, is_training)\n",
    "\n",
    "\n",
    "arg_scope = eyenet_arg_scope_bnorm(is_training=is_training)\n",
    "with slim.arg_scope(arg_scope):\n",
    "  logits, end_points = eyenet_bn(preprocessed_image_input, is_training=is_training)\n",
    "\n",
    "# scope = vgg.vgg_arg_scope()\n",
    "# with slim.arg_scope(scope):\n",
    "#    logits, end_points = vgg.vgg_16(image_input, num_classes=10, is_training=is_training)\n",
    "\n"
   ]
  },
  {
   "cell_type": "code",
   "execution_count": 19,
   "metadata": {
    "colab": {
     "autoexec": {
      "startup": false,
      "wait_interval": 0
     },
     "base_uri": "https://localhost:8080/",
     "height": 85
    },
    "colab_type": "code",
    "executionInfo": {
     "elapsed": 1097,
     "status": "ok",
     "timestamp": 1523695160622,
     "user": {
      "displayName": "Gabriel Andrei",
      "photoUrl": "https://lh3.googleusercontent.com/a/default-user=s128",
      "userId": "104453749357877089552"
     },
     "user_tz": -180
    },
    "id": "VaIEgr1SFQpY",
    "outputId": "a89dd497-dacc-4d37-906e-be513d51ab61"
   },
   "outputs": [
    {
     "name": "stdout",
     "output_type": "stream",
     "text": [
      "[[4. 9.]\n",
      " [4. 1.]]\n",
      "2.9208097\n",
      "4.5\n"
     ]
    }
   ],
   "source": [
    "# tf.reduce_mean(tf.squared_difference(tf.cast(logits, tf.float32), tf.cast(label_input, tf.float32)))\n",
    "import tensorflow as tf\n",
    "with tf.Session() as sess2:\n",
    "  print(sess2.run(tf.squared_difference(tf.cast([[1, 2],[3,4]], tf.float32), tf.cast([[3, 5],[1,5]], tf.float32))))\n",
    "  print(sess2.run(tf.reduce_mean(tf.sqrt(tf.reduce_sum(tf.squared_difference(tf.cast([[1, 2],[3,4]], tf.float32), tf.cast([[3, 5],[1,5]], tf.float32)), 1)))))\n",
    "  print(sess2.run(tf.reduce_mean(tf.squared_difference(tf.cast([[1, 2],[3,4]], tf.float32), tf.cast([[3, 5],[1,5]], tf.float32)))))"
   ]
  },
  {
   "cell_type": "markdown",
   "metadata": {
    "colab_type": "text",
    "id": "Ub2tDVS-KAJo"
   },
   "source": [
    "### Definirea pasilor de antrenare"
   ]
  },
  {
   "cell_type": "code",
   "execution_count": 20,
   "metadata": {
    "colab": {
     "autoexec": {
      "startup": false,
      "wait_interval": 0
     },
     "base_uri": "https://localhost:8080/",
     "height": 5603
    },
    "colab_type": "code",
    "executionInfo": {
     "elapsed": 2062209,
     "status": "error",
     "timestamp": 1523697222887,
     "user": {
      "displayName": "Gabriel Andrei",
      "photoUrl": "https://lh3.googleusercontent.com/a/default-user=s128",
      "userId": "104453749357877089552"
     },
     "user_tz": -180
    },
    "id": "JAMeODSj_w4P",
    "outputId": "5f46d40b-1086-4529-d15c-754da1d8cadb"
   },
   "outputs": [
    {
     "name": "stdout",
     "output_type": "stream",
     "text": [
      "Starting optimization\n",
      "Batch size 12\n",
      "Initial LR 0.001. LR stepdown itnerval 7000. LR deacy factor 0.6\n",
      "Test 0: accuracy:1 loss: 13.515753\n",
      "Train 0: accuracy:1 loss: 10.8085985\n",
      "Test 0: accuracy:1.0 loss: 12.376549\n",
      "Test 0: accuracy:1 loss: 13.509827\n",
      "Train 200: accuracy:1 loss: 6.1687074\n",
      "Test 200: accuracy:1.0 loss: 12.377831\n",
      "Test 0: accuracy:1 loss: 13.512393\n",
      "Train 400: accuracy:1 loss: 4.9548764\n",
      "Test 400: accuracy:1.0 loss: 12.3796625\n",
      "Test 0: accuracy:1 loss: 13.503624\n",
      "Train 600: accuracy:1 loss: 4.216797\n",
      "Test 600: accuracy:1.0 loss: 12.381419\n",
      "Test 0: accuracy:1 loss: 13.479486\n",
      "Train 800: accuracy:1 loss: 4.5419164\n",
      "Test 800: accuracy:1.0 loss: 12.395993\n",
      "Test 0: accuracy:1 loss: 13.427754\n",
      "Train 1000: accuracy:1 loss: 5.728031\n",
      "Test 1000: accuracy:1.0 loss: 12.438247\n",
      "Test 0: accuracy:1 loss: 13.427192\n",
      "Train 1200: accuracy:1 loss: 3.9815607\n",
      "Test 1200: accuracy:1.0 loss: 12.438352\n",
      "Test 0: accuracy:1 loss: 13.456881\n",
      "Train 1400: accuracy:1 loss: 2.4535074\n",
      "Test 1400: accuracy:1.0 loss: 12.757801\n",
      "Test 0: accuracy:1 loss: 13.4990015\n",
      "Train 1600: accuracy:1 loss: 4.264725\n",
      "Test 1600: accuracy:1.0 loss: 12.992965\n",
      "Test 0: accuracy:1 loss: 12.361614\n",
      "Train 1800: accuracy:1 loss: 4.568096\n",
      "Test 1800: accuracy:1.0 loss: 11.944369\n",
      "Test 0: accuracy:1 loss: 10.642046\n",
      "Train 2000: accuracy:1 loss: 2.6917064\n",
      "Test 2000: accuracy:1.0 loss: 10.317748\n",
      "Test 0: accuracy:1 loss: 7.161658\n",
      "Train 2200: accuracy:1 loss: 3.2321434\n",
      "Test 2200: accuracy:1.0 loss: 7.206906\n",
      "Test 0: accuracy:1 loss: 4.3596115\n",
      "Train 2400: accuracy:1 loss: 2.3118687\n",
      "Test 2400: accuracy:1.0 loss: 4.545381\n",
      "Test 0: accuracy:1 loss: 5.7807016\n",
      "Train 2600: accuracy:1 loss: 5.6103616\n",
      "Test 2600: accuracy:1.0 loss: 5.850969\n",
      "Test 0: accuracy:1 loss: 4.8220983\n",
      "Train 2800: accuracy:1 loss: 4.50573\n",
      "Test 2800: accuracy:1.0 loss: 4.7365336\n",
      "Test 0: accuracy:1 loss: 7.2409086\n",
      "Train 3000: accuracy:1 loss: 3.31633\n",
      "Test 3000: accuracy:1.0 loss: 6.8199143\n",
      "Test 0: accuracy:1 loss: 10.58721\n",
      "Train 3200: accuracy:1 loss: 2.7090187\n",
      "Test 3200: accuracy:1.0 loss: 10.389931\n",
      "Test 0: accuracy:1 loss: 3.730041\n",
      "Train 3400: accuracy:1 loss: 4.060827\n",
      "Test 3400: accuracy:1.0 loss: 4.0970364\n",
      "Test 0: accuracy:1 loss: 6.630907\n",
      "Train 3600: accuracy:1 loss: 4.0094876\n",
      "Test 3600: accuracy:1.0 loss: 6.244789\n",
      "Test 0: accuracy:1 loss: 9.552946\n",
      "Train 3800: accuracy:1 loss: 2.782781\n",
      "Test 3800: accuracy:1.0 loss: 9.738645\n",
      "Test 0: accuracy:1 loss: 7.1598654\n",
      "Train 4000: accuracy:1 loss: 2.629721\n",
      "Test 4000: accuracy:1.0 loss: 7.2254004\n",
      "Test 0: accuracy:1 loss: 5.8166327\n",
      "Train 4200: accuracy:1 loss: 3.767783\n",
      "Test 4200: accuracy:1.0 loss: 6.215196\n",
      "Test 0: accuracy:1 loss: 6.0532236\n",
      "Train 4400: accuracy:1 loss: 1.7938935\n",
      "Test 4400: accuracy:1.0 loss: 6.1043587\n",
      "Test 0: accuracy:1 loss: 6.4571466\n",
      "Train 4600: accuracy:1 loss: 2.8846939\n",
      "Test 4600: accuracy:1.0 loss: 6.560723\n",
      "Test 0: accuracy:1 loss: 3.5874078\n",
      "Train 4800: accuracy:1 loss: 5.188861\n",
      "Test 4800: accuracy:1.0 loss: 3.7245073\n",
      "Test 0: accuracy:1 loss: 4.483506\n",
      "Train 5000: accuracy:1 loss: 2.1965387\n",
      "Test 5000: accuracy:1.0 loss: 4.2218356\n",
      "Test 0: accuracy:1 loss: 3.4220865\n",
      "Train 5200: accuracy:1 loss: 2.2238016\n",
      "Test 5200: accuracy:1.0 loss: 3.513056\n",
      "Test 0: accuracy:1 loss: 7.296845\n",
      "Train 5400: accuracy:1 loss: 2.0654602\n",
      "Test 5400: accuracy:1.0 loss: 7.127272\n",
      "Test 0: accuracy:1 loss: 4.164067\n",
      "Train 5600: accuracy:1 loss: 2.1962512\n",
      "Test 5600: accuracy:1.0 loss: 4.2843738\n",
      "Test 0: accuracy:1 loss: 4.2999396\n",
      "Train 5800: accuracy:1 loss: 1.7643903\n",
      "Test 5800: accuracy:1.0 loss: 5.109015\n",
      "Test 0: accuracy:1 loss: 4.3986797\n",
      "Train 6000: accuracy:1 loss: 2.695511\n",
      "Test 6000: accuracy:1.0 loss: 4.5384626\n",
      "Test 0: accuracy:1 loss: 3.9854288\n",
      "Train 6200: accuracy:1 loss: 1.7361091\n",
      "Test 6200: accuracy:1.0 loss: 4.1126943\n",
      "Test 0: accuracy:1 loss: 4.5585194\n",
      "Train 6400: accuracy:1 loss: 1.5273529\n",
      "Test 6400: accuracy:1.0 loss: 4.964092\n",
      "Test 0: accuracy:1 loss: 4.1420035\n",
      "Train 6600: accuracy:1 loss: 2.2780309\n",
      "Test 6600: accuracy:1.0 loss: 4.0228047\n",
      "Test 0: accuracy:1 loss: 3.8536708\n",
      "Train 6800: accuracy:1 loss: 2.3726099\n",
      "Test 6800: accuracy:1.0 loss: 3.939988\n",
      "Test 0: accuracy:1 loss: 3.4455123\n",
      "Train 7000: accuracy:1 loss: 2.1678445\n",
      "Test 7000: accuracy:1.0 loss: 3.5963783\n",
      "Learning reate step down. Old 0.001. New 0.0006\n",
      "Test 0: accuracy:1 loss: 3.2529352\n",
      "Train 7200: accuracy:1 loss: 1.6468029\n",
      "Test 7200: accuracy:1.0 loss: 3.625085\n",
      "Test 0: accuracy:1 loss: 3.324858\n",
      "Train 7400: accuracy:1 loss: 1.1223396\n",
      "Test 7400: accuracy:1.0 loss: 3.5888166\n",
      "Test 0: accuracy:1 loss: 3.6001585\n",
      "Train 7600: accuracy:1 loss: 1.7584151\n",
      "Test 7600: accuracy:1.0 loss: 3.839859\n",
      "Test 0: accuracy:1 loss: 3.4119844\n",
      "Train 7800: accuracy:1 loss: 1.2275139\n",
      "Test 7800: accuracy:1.0 loss: 3.6114092\n",
      "Test 0: accuracy:1 loss: 3.5669289\n",
      "Train 8000: accuracy:1 loss: 1.5610977\n",
      "Test 8000: accuracy:1.0 loss: 3.687991\n",
      "Test 0: accuracy:1 loss: 3.483149\n",
      "Train 8200: accuracy:1 loss: 1.3717397\n",
      "Test 8200: accuracy:1.0 loss: 3.652443\n",
      "Test 0: accuracy:1 loss: 2.9750924\n",
      "Train 8400: accuracy:1 loss: 1.3834502\n",
      "Test 8400: accuracy:1.0 loss: 3.2024212\n",
      "Test 0: accuracy:1 loss: 3.4286838\n",
      "Train 8600: accuracy:1 loss: 1.4023138\n",
      "Test 8600: accuracy:1.0 loss: 3.6280262\n",
      "Test 0: accuracy:1 loss: 2.8625634\n",
      "Train 8800: accuracy:1 loss: 1.1190082\n",
      "Test 8800: accuracy:1.0 loss: 3.139199\n",
      "Test 0: accuracy:1 loss: 3.7366722\n",
      "Train 9000: accuracy:1 loss: 1.3947369\n",
      "Test 9000: accuracy:1.0 loss: 3.8804805\n",
      "Test 0: accuracy:1 loss: 3.031034\n",
      "Train 9200: accuracy:1 loss: 1.4832935\n",
      "Test 9200: accuracy:1.0 loss: 3.1830673\n",
      "Test 0: accuracy:1 loss: 3.157657\n",
      "Train 9400: accuracy:1 loss: 1.2350469\n",
      "Test 9400: accuracy:1.0 loss: 3.410321\n",
      "Test 0: accuracy:1 loss: 3.328732\n",
      "Train 9600: accuracy:1 loss: 1.4084105\n",
      "Test 9600: accuracy:1.0 loss: 3.4870625\n",
      "Test 0: accuracy:1 loss: 3.6210766\n",
      "Train 9800: accuracy:1 loss: 1.1487813\n",
      "Test 9800: accuracy:1.0 loss: 3.7460697\n",
      "Test 0: accuracy:1 loss: 3.1530008\n",
      "Train 10000: accuracy:1 loss: 1.0604858\n",
      "Test 10000: accuracy:1.0 loss: 3.2008305\n",
      "Test 0: accuracy:1 loss: 3.2554128\n",
      "Train 10200: accuracy:1 loss: 1.1982919\n",
      "Test 10200: accuracy:1.0 loss: 3.4867623\n",
      "Test 0: accuracy:1 loss: 2.8142188\n",
      "Train 10400: accuracy:1 loss: 1.3187331\n",
      "Test 10400: accuracy:1.0 loss: 3.3817568\n",
      "Test 0: accuracy:1 loss: 3.3273525\n",
      "Train 10600: accuracy:1 loss: 1.0268136\n",
      "Test 10600: accuracy:1.0 loss: 3.6071072\n",
      "Test 0: accuracy:1 loss: 3.9005575\n",
      "Train 10800: accuracy:1 loss: 1.0735921\n",
      "Test 10800: accuracy:1.0 loss: 4.006296\n",
      "Test 0: accuracy:1 loss: 3.1294498\n",
      "Train 11000: accuracy:1 loss: 1.6571277\n",
      "Test 11000: accuracy:1.0 loss: 3.2688475\n",
      "Test 0: accuracy:1 loss: 3.4132633\n",
      "Train 11200: accuracy:1 loss: 1.4524585\n",
      "Test 11200: accuracy:1.0 loss: 3.410962\n",
      "Test 0: accuracy:1 loss: 3.2982388\n",
      "Train 11400: accuracy:1 loss: 1.1981759\n",
      "Test 11400: accuracy:1.0 loss: 3.5087452\n",
      "Test 0: accuracy:1 loss: 3.2516549\n",
      "Train 11600: accuracy:1 loss: 1.2906135\n",
      "Test 11600: accuracy:1.0 loss: 3.4553306\n",
      "Test 0: accuracy:1 loss: 3.3162234\n",
      "Train 11800: accuracy:1 loss: 1.0235513\n",
      "Test 11800: accuracy:1.0 loss: 3.479761\n",
      "Test 0: accuracy:1 loss: 3.5294504\n",
      "Train 12000: accuracy:1 loss: 0.9401663\n",
      "Test 12000: accuracy:1.0 loss: 3.649327\n",
      "Test 0: accuracy:1 loss: 3.3997273\n",
      "Train 12200: accuracy:1 loss: 1.390458\n",
      "Test 12200: accuracy:1.0 loss: 3.5133703\n",
      "Test 0: accuracy:1 loss: 3.2068853\n",
      "Train 12400: accuracy:1 loss: 1.173447\n",
      "Test 12400: accuracy:1.0 loss: 3.5329514\n",
      "Test 0: accuracy:1 loss: 4.1606665\n",
      "Train 12600: accuracy:1 loss: 1.7379189\n",
      "Test 12600: accuracy:1.0 loss: 4.2059536\n",
      "Test 0: accuracy:1 loss: 3.7559397\n",
      "Train 12800: accuracy:1 loss: 1.0606772\n",
      "Test 12800: accuracy:1.0 loss: 3.5252693\n",
      "Test 0: accuracy:1 loss: 3.2835064\n",
      "Train 13000: accuracy:1 loss: 1.3922977\n",
      "Test 13000: accuracy:1.0 loss: 3.5575612\n",
      "Test 0: accuracy:1 loss: 3.5478218\n",
      "Train 13200: accuracy:1 loss: 1.3232713\n",
      "Test 13200: accuracy:1.0 loss: 3.6059616\n",
      "Test 0: accuracy:1 loss: 3.1799378\n",
      "Train 13400: accuracy:1 loss: 1.1897764\n",
      "Test 13400: accuracy:1.0 loss: 3.4338295\n",
      "Test 0: accuracy:1 loss: 3.0970337\n",
      "Train 13600: accuracy:1 loss: 1.1724952\n",
      "Test 13600: accuracy:1.0 loss: 3.2736084\n",
      "Test 0: accuracy:1 loss: 3.4875808\n",
      "Train 13800: accuracy:1 loss: 1.0574417\n",
      "Test 13800: accuracy:1.0 loss: 3.6102676\n",
      "Test 0: accuracy:1 loss: 3.3152835\n",
      "Train 14000: accuracy:1 loss: 0.97322756\n",
      "Test 14000: accuracy:1.0 loss: 3.597353\n",
      "Learning reate step down. Old 0.0006. New 0.00035999999999999997\n",
      "Test 0: accuracy:1 loss: 3.2252629\n",
      "Train 14200: accuracy:1 loss: 0.6919268\n",
      "Test 14200: accuracy:1.0 loss: 3.4027646\n",
      "Test 0: accuracy:1 loss: 3.0236158\n",
      "Train 14400: accuracy:1 loss: 1.2732806\n",
      "Test 14400: accuracy:1.0 loss: 3.1801064\n",
      "Test 0: accuracy:1 loss: 3.3300788\n",
      "Train 14600: accuracy:1 loss: 0.8735941\n",
      "Test 14600: accuracy:1.0 loss: 3.5680218\n",
      "Test 0: accuracy:1 loss: 3.2016969\n",
      "Train 14800: accuracy:1 loss: 1.0519539\n",
      "Test 14800: accuracy:1.0 loss: 3.3636692\n",
      "Test 0: accuracy:1 loss: 3.4522154\n",
      "Train 15000: accuracy:1 loss: 0.97328925\n",
      "Test 15000: accuracy:1.0 loss: 3.4302833\n",
      "Test 0: accuracy:1 loss: 3.2986755\n",
      "Train 15200: accuracy:1 loss: 1.3225709\n",
      "Test 15200: accuracy:1.0 loss: 3.567914\n",
      "Test 0: accuracy:1 loss: 3.0379956\n",
      "Train 15400: accuracy:1 loss: 0.7183748\n",
      "Test 15400: accuracy:1.0 loss: 3.4547615\n",
      "Test 0: accuracy:1 loss: 3.08125\n",
      "Train 15600: accuracy:1 loss: 0.86103773\n",
      "Test 15600: accuracy:1.0 loss: 3.0401428\n",
      "Test 0: accuracy:1 loss: 3.5137992\n",
      "Train 15800: accuracy:1 loss: 0.7628725\n",
      "Test 15800: accuracy:1.0 loss: 3.5531952\n",
      "Test 0: accuracy:1 loss: 3.1588404\n",
      "Train 16000: accuracy:1 loss: 1.0571132\n",
      "Test 16000: accuracy:1.0 loss: 3.316254\n",
      "Test 0: accuracy:1 loss: 3.1676102\n",
      "Train 16200: accuracy:1 loss: 1.3030359\n",
      "Test 16200: accuracy:1.0 loss: 3.336648\n",
      "Test 0: accuracy:1 loss: 3.0251646\n",
      "Train 16400: accuracy:1 loss: 1.3296562\n",
      "Test 16400: accuracy:1.0 loss: 3.0773914\n",
      "Test 0: accuracy:1 loss: 3.3645372\n",
      "Train 16600: accuracy:1 loss: 0.87337095\n",
      "Test 16600: accuracy:1.0 loss: 3.3583944\n",
      "Test 0: accuracy:1 loss: 3.3885636\n",
      "Train 16800: accuracy:1 loss: 1.1240462\n",
      "Test 16800: accuracy:1.0 loss: 3.4528015\n",
      "Test 0: accuracy:1 loss: 3.19345\n",
      "Train 17000: accuracy:1 loss: 0.75994796\n",
      "Test 17000: accuracy:1.0 loss: 3.2400253\n"
     ]
    },
    {
     "name": "stdout",
     "output_type": "stream",
     "text": [
      "Test 0: accuracy:1 loss: 3.1341724\n",
      "Train 17200: accuracy:1 loss: 1.0943534\n",
      "Test 17200: accuracy:1.0 loss: 3.1341102\n",
      "Test 0: accuracy:1 loss: 3.9570704\n",
      "Train 17400: accuracy:1 loss: 0.98252726\n",
      "Test 17400: accuracy:1.0 loss: 3.9192498\n",
      "Test 0: accuracy:1 loss: 3.159268\n",
      "Train 17600: accuracy:1 loss: 1.4683253\n",
      "Test 17600: accuracy:1.0 loss: 3.283786\n",
      "Test 0: accuracy:1 loss: 3.1818712\n",
      "Train 17800: accuracy:1 loss: 1.2133391\n",
      "Test 17800: accuracy:1.0 loss: 3.4108973\n",
      "Test 0: accuracy:1 loss: 3.5200953\n",
      "Train 18000: accuracy:1 loss: 0.9896404\n",
      "Test 18000: accuracy:1.0 loss: 3.5025787\n",
      "Test 0: accuracy:1 loss: 3.462864\n",
      "Train 18200: accuracy:1 loss: 0.8481953\n",
      "Test 18200: accuracy:1.0 loss: 3.4929168\n"
     ]
    },
    {
     "ename": "KeyboardInterrupt",
     "evalue": "ignored",
     "output_type": "error",
     "traceback": [
      "\u001b[0;31m---------------------------------------------------------------------------\u001b[0m",
      "\u001b[0;31mKeyboardInterrupt\u001b[0m                         Traceback (most recent call last)",
      "\u001b[0;32m<ipython-input-20-713b884558eb>\u001b[0m in \u001b[0;36m<module>\u001b[0;34m()\u001b[0m\n\u001b[1;32m     89\u001b[0m \u001b[0;34m\u001b[0m\u001b[0m\n\u001b[1;32m     90\u001b[0m   \u001b[0;32melse\u001b[0m\u001b[0;34m:\u001b[0m\u001b[0;34m\u001b[0m\u001b[0m\n\u001b[0;32m---> 91\u001b[0;31m       \u001b[0msess\u001b[0m\u001b[0;34m.\u001b[0m\u001b[0mrun\u001b[0m\u001b[0;34m(\u001b[0m\u001b[0;34m[\u001b[0m\u001b[0moptimizer\u001b[0m\u001b[0;34m]\u001b[0m\u001b[0;34m,\u001b[0m \u001b[0mfeed_dict\u001b[0m\u001b[0;34m=\u001b[0m\u001b[0mfeed_dict\u001b[0m\u001b[0;34m)\u001b[0m\u001b[0;34m\u001b[0m\u001b[0m\n\u001b[0m\u001b[1;32m     92\u001b[0m \u001b[0;34m\u001b[0m\u001b[0m\n\u001b[1;32m     93\u001b[0m \u001b[0;34m\u001b[0m\u001b[0m\n",
      "\u001b[0;32m/usr/local/lib/python3.6/dist-packages/tensorflow/python/client/session.py\u001b[0m in \u001b[0;36mrun\u001b[0;34m(self, fetches, feed_dict, options, run_metadata)\u001b[0m\n\u001b[1;32m    903\u001b[0m     \u001b[0;32mtry\u001b[0m\u001b[0;34m:\u001b[0m\u001b[0;34m\u001b[0m\u001b[0m\n\u001b[1;32m    904\u001b[0m       result = self._run(None, fetches, feed_dict, options_ptr,\n\u001b[0;32m--> 905\u001b[0;31m                          run_metadata_ptr)\n\u001b[0m\u001b[1;32m    906\u001b[0m       \u001b[0;32mif\u001b[0m \u001b[0mrun_metadata\u001b[0m\u001b[0;34m:\u001b[0m\u001b[0;34m\u001b[0m\u001b[0m\n\u001b[1;32m    907\u001b[0m         \u001b[0mproto_data\u001b[0m \u001b[0;34m=\u001b[0m \u001b[0mtf_session\u001b[0m\u001b[0;34m.\u001b[0m\u001b[0mTF_GetBuffer\u001b[0m\u001b[0;34m(\u001b[0m\u001b[0mrun_metadata_ptr\u001b[0m\u001b[0;34m)\u001b[0m\u001b[0;34m\u001b[0m\u001b[0m\n",
      "\u001b[0;32m/usr/local/lib/python3.6/dist-packages/tensorflow/python/client/session.py\u001b[0m in \u001b[0;36m_run\u001b[0;34m(self, handle, fetches, feed_dict, options, run_metadata)\u001b[0m\n\u001b[1;32m   1135\u001b[0m     \u001b[0;32mif\u001b[0m \u001b[0mfinal_fetches\u001b[0m \u001b[0;32mor\u001b[0m \u001b[0mfinal_targets\u001b[0m \u001b[0;32mor\u001b[0m \u001b[0;34m(\u001b[0m\u001b[0mhandle\u001b[0m \u001b[0;32mand\u001b[0m \u001b[0mfeed_dict_tensor\u001b[0m\u001b[0;34m)\u001b[0m\u001b[0;34m:\u001b[0m\u001b[0;34m\u001b[0m\u001b[0m\n\u001b[1;32m   1136\u001b[0m       results = self._do_run(handle, final_targets, final_fetches,\n\u001b[0;32m-> 1137\u001b[0;31m                              feed_dict_tensor, options, run_metadata)\n\u001b[0m\u001b[1;32m   1138\u001b[0m     \u001b[0;32melse\u001b[0m\u001b[0;34m:\u001b[0m\u001b[0;34m\u001b[0m\u001b[0m\n\u001b[1;32m   1139\u001b[0m       \u001b[0mresults\u001b[0m \u001b[0;34m=\u001b[0m \u001b[0;34m[\u001b[0m\u001b[0;34m]\u001b[0m\u001b[0;34m\u001b[0m\u001b[0m\n",
      "\u001b[0;32m/usr/local/lib/python3.6/dist-packages/tensorflow/python/client/session.py\u001b[0m in \u001b[0;36m_do_run\u001b[0;34m(self, handle, target_list, fetch_list, feed_dict, options, run_metadata)\u001b[0m\n\u001b[1;32m   1353\u001b[0m     \u001b[0;32mif\u001b[0m \u001b[0mhandle\u001b[0m \u001b[0;32mis\u001b[0m \u001b[0;32mNone\u001b[0m\u001b[0;34m:\u001b[0m\u001b[0;34m\u001b[0m\u001b[0m\n\u001b[1;32m   1354\u001b[0m       return self._do_call(_run_fn, self._session, feeds, fetches, targets,\n\u001b[0;32m-> 1355\u001b[0;31m                            options, run_metadata)\n\u001b[0m\u001b[1;32m   1356\u001b[0m     \u001b[0;32melse\u001b[0m\u001b[0;34m:\u001b[0m\u001b[0;34m\u001b[0m\u001b[0m\n\u001b[1;32m   1357\u001b[0m       \u001b[0;32mreturn\u001b[0m \u001b[0mself\u001b[0m\u001b[0;34m.\u001b[0m\u001b[0m_do_call\u001b[0m\u001b[0;34m(\u001b[0m\u001b[0m_prun_fn\u001b[0m\u001b[0;34m,\u001b[0m \u001b[0mself\u001b[0m\u001b[0;34m.\u001b[0m\u001b[0m_session\u001b[0m\u001b[0;34m,\u001b[0m \u001b[0mhandle\u001b[0m\u001b[0;34m,\u001b[0m \u001b[0mfeeds\u001b[0m\u001b[0;34m,\u001b[0m \u001b[0mfetches\u001b[0m\u001b[0;34m)\u001b[0m\u001b[0;34m\u001b[0m\u001b[0m\n",
      "\u001b[0;32m/usr/local/lib/python3.6/dist-packages/tensorflow/python/client/session.py\u001b[0m in \u001b[0;36m_do_call\u001b[0;34m(self, fn, *args)\u001b[0m\n\u001b[1;32m   1359\u001b[0m   \u001b[0;32mdef\u001b[0m \u001b[0m_do_call\u001b[0m\u001b[0;34m(\u001b[0m\u001b[0mself\u001b[0m\u001b[0;34m,\u001b[0m \u001b[0mfn\u001b[0m\u001b[0;34m,\u001b[0m \u001b[0;34m*\u001b[0m\u001b[0margs\u001b[0m\u001b[0;34m)\u001b[0m\u001b[0;34m:\u001b[0m\u001b[0;34m\u001b[0m\u001b[0m\n\u001b[1;32m   1360\u001b[0m     \u001b[0;32mtry\u001b[0m\u001b[0;34m:\u001b[0m\u001b[0;34m\u001b[0m\u001b[0m\n\u001b[0;32m-> 1361\u001b[0;31m       \u001b[0;32mreturn\u001b[0m \u001b[0mfn\u001b[0m\u001b[0;34m(\u001b[0m\u001b[0;34m*\u001b[0m\u001b[0margs\u001b[0m\u001b[0;34m)\u001b[0m\u001b[0;34m\u001b[0m\u001b[0m\n\u001b[0m\u001b[1;32m   1362\u001b[0m     \u001b[0;32mexcept\u001b[0m \u001b[0merrors\u001b[0m\u001b[0;34m.\u001b[0m\u001b[0mOpError\u001b[0m \u001b[0;32mas\u001b[0m \u001b[0me\u001b[0m\u001b[0;34m:\u001b[0m\u001b[0;34m\u001b[0m\u001b[0m\n\u001b[1;32m   1363\u001b[0m       \u001b[0mmessage\u001b[0m \u001b[0;34m=\u001b[0m \u001b[0mcompat\u001b[0m\u001b[0;34m.\u001b[0m\u001b[0mas_text\u001b[0m\u001b[0;34m(\u001b[0m\u001b[0me\u001b[0m\u001b[0;34m.\u001b[0m\u001b[0mmessage\u001b[0m\u001b[0;34m)\u001b[0m\u001b[0;34m\u001b[0m\u001b[0m\n",
      "\u001b[0;32m/usr/local/lib/python3.6/dist-packages/tensorflow/python/client/session.py\u001b[0m in \u001b[0;36m_run_fn\u001b[0;34m(session, feed_dict, fetch_list, target_list, options, run_metadata)\u001b[0m\n\u001b[1;32m   1338\u001b[0m         \u001b[0;32melse\u001b[0m\u001b[0;34m:\u001b[0m\u001b[0;34m\u001b[0m\u001b[0m\n\u001b[1;32m   1339\u001b[0m           return tf_session.TF_Run(session, options, feed_dict, fetch_list,\n\u001b[0;32m-> 1340\u001b[0;31m                                    target_list, status, run_metadata)\n\u001b[0m\u001b[1;32m   1341\u001b[0m \u001b[0;34m\u001b[0m\u001b[0m\n\u001b[1;32m   1342\u001b[0m     \u001b[0;32mdef\u001b[0m \u001b[0m_prun_fn\u001b[0m\u001b[0;34m(\u001b[0m\u001b[0msession\u001b[0m\u001b[0;34m,\u001b[0m \u001b[0mhandle\u001b[0m\u001b[0;34m,\u001b[0m \u001b[0mfeed_dict\u001b[0m\u001b[0;34m,\u001b[0m \u001b[0mfetch_list\u001b[0m\u001b[0;34m)\u001b[0m\u001b[0;34m:\u001b[0m\u001b[0;34m\u001b[0m\u001b[0m\n",
      "\u001b[0;31mKeyboardInterrupt\u001b[0m: "
     ]
    }
   ],
   "source": [
    "initial_learning_rate = 1e-3\n",
    "num_steps = int(200000)\n",
    "num_examples = images_train.shape[0]\n",
    "iters = num_examples / batch_size\n",
    "learning_rate_step = 7000 # 10000\n",
    "learning_rate_decay = .6 # 1\n",
    "\n",
    "# loss = tf.reduce_mean(tf.squared_difference(tf.cast(logits, tf.float32), tf.cast(label_input, tf.float32)))\n",
    "loss = tf.reduce_mean(tf.sqrt(tf.reduce_sum(tf.squared_difference(tf.cast(logits, tf.float32), tf.cast(label_input, tf.float32)), 1)))\n",
    "\n",
    "# accuracy of the trained model, between 0 (worst) and 1 (best)\n",
    "predictions = end_points['Predictions']\n",
    "\n",
    "correct_prediction = tf.equal(tf.argmax(predictions, 1), label_input)\n",
    "accuracy = tf.constant(1) # tf.reduce_mean(tf.cast(correct_prediction, tf.float32))\n",
    "\n",
    "# Optimizer.\n",
    "# optimizer = tf.train.GradientDescentOptimizer(learning_rate).minimize(loss)\n",
    "\n",
    "update_ops = tf.get_collection(tf.GraphKeys.UPDATE_OPS)\n",
    "with tf.control_dependencies(update_ops):\n",
    "  optimizer = tf.train.AdamOptimizer(learning_rate=learning_rate).minimize(loss)\n",
    "  \n",
    "init = tf.global_variables_initializer()\n",
    "\n",
    "sess = tf.Session()\n",
    "\n",
    "sess.run(init)\n",
    "  \n",
    "running_lr = initial_learning_rate\n",
    "\n",
    "print(\"Starting optimization\")\n",
    "print(\"Batch size {}\".format(batch_size))\n",
    "print(\"Initial LR {}. LR stepdown itnerval {}. LR deacy factor {}\".format(running_lr, learning_rate_step, learning_rate_decay))\n",
    "\n",
    "for i in range(num_steps):\n",
    "  x, y = random_batch(X_train, y_train, bsize=batch_size)\n",
    "\n",
    "  feed_dict = {\n",
    "\n",
    "      image_input: x,\n",
    "      label_input: y,\n",
    "      is_training: True,\n",
    "      learning_rate : running_lr\n",
    "\n",
    "  }\n",
    "\n",
    "  if i % 200 == 0:\n",
    "      _, trainAcc, trainLoss = sess.run([optimizer, accuracy, loss], feed_dict=feed_dict)\n",
    "      \n",
    "      testAcc, testLoss = evaluate()\n",
    "      \n",
    "      print(\"Train \" + str(i) + \": accuracy:\" + str(trainAcc) + \" loss: \" + str(trainLoss))\n",
    "      print(\"Test \" + str(i) + \": accuracy:\" + str(testAcc) + \" loss: \" + str(testLoss))\n",
    "      \n",
    "      trainingAccuracyList.append(trainAcc)\n",
    "      trainingLossList.append(trainLoss)\n",
    "      testAccuracyList.append(testAcc)\n",
    "      testLossList.append(testLoss)\n",
    "      learningRateList.append(running_lr)\n",
    "     \n",
    "  else:\n",
    "      sess.run([optimizer], feed_dict=feed_dict)\n",
    "  \n",
    "  \n",
    "  if  i > 0 and i % learning_rate_step == 0:\n",
    "      print(\"Learning reate step down. Old {}. New {}\".format(running_lr, running_lr * learning_rate_decay))\n",
    "      running_lr = running_lr * learning_rate_decay\n",
    "      "
   ]
  },
  {
   "cell_type": "markdown",
   "metadata": {
    "colab_type": "text",
    "id": "rsU44I5hNZSn"
   },
   "source": [
    "### Plotting"
   ]
  },
  {
   "cell_type": "code",
   "execution_count": 21,
   "metadata": {
    "colab": {
     "autoexec": {
      "startup": false,
      "wait_interval": 0
     },
     "base_uri": "https://localhost:8080/",
     "height": 498
    },
    "colab_type": "code",
    "executionInfo": {
     "elapsed": 1222,
     "status": "ok",
     "timestamp": 1523697709955,
     "user": {
      "displayName": "Gabriel Andrei",
      "photoUrl": "https://lh3.googleusercontent.com/a/default-user=s128",
      "userId": "104453749357877089552"
     },
     "user_tz": -180
    },
    "id": "UM0RCLM8J-oG",
    "outputId": "ce48b923-cfa1-4ee2-8a2d-56a6198d33ac"
   },
   "outputs": [
    {
     "data": {
      "image/png": "[encoded data removed]",
      "text/plain": [
       "<matplotlib.figure.Figure at 0x7f799f1c60b8>"
      ]
     },
     "metadata": {
      "tags": []
     },
     "output_type": "display_data"
    }
   ],
   "source": [
    "plt.figure(figsize=(20,8))\n",
    "\n",
    "# Plot Accuracy\n",
    "# plt.subplot(1,2,1);\n",
    "# plt.plot(trainingAccuracyList, label=\"Train Acc\");\n",
    "# plt.plot(testAccuracyList, label=\"Test Acc\");\n",
    "# plt.title(\"Accuracy\");\n",
    "# plt.legend();\n",
    "\n",
    "# Plot Loss\n",
    "plt.subplot(1,2,2);\n",
    "plt.plot(trainingLossList, label=\"Train Loss\");\n",
    "plt.plot(testLossList, label=\"Test Loss\");\n",
    "plt.title(\"Loss\");\n",
    "plt.legend();"
   ]
  },
  {
   "cell_type": "markdown",
   "metadata": {
    "colab_type": "text",
    "id": "5BZ-S8HBNmqg"
   },
   "source": [
    "## Evaluate final model"
   ]
  },
  {
   "cell_type": "code",
   "execution_count": 48,
   "metadata": {
    "colab": {
     "autoexec": {
      "startup": false,
      "wait_interval": 0
     },
     "base_uri": "https://localhost:8080/",
     "height": 51
    },
    "colab_type": "code",
    "executionInfo": {
     "elapsed": 733,
     "status": "ok",
     "timestamp": 1523546575468,
     "user": {
      "displayName": "Gabriel Andrei",
      "photoUrl": "https://lh3.googleusercontent.com/a/default-user=s128",
      "userId": "104453749357877089552"
     },
     "user_tz": -180
    },
    "id": "uGpA40fHad1I",
    "outputId": "ba940a67-d114-4d22-c5a7-de1ed874cfc3"
   },
   "outputs": [
    {
     "name": "stdout",
     "output_type": "stream",
     "text": [
      "Test 0: accuracy:1 loss: 7.689825\n",
      "Test accuracy:1.0 loss: 12.87782\n"
     ]
    }
   ],
   "source": [
    "acc, test_loss = evaluate()\n",
    "\n",
    "print(\"Test accuracy:\" + str(acc) + \" loss: \" + str(test_loss))                   "
   ]
  },
  {
   "cell_type": "code",
   "execution_count": 42,
   "metadata": {
    "colab": {
     "autoexec": {
      "startup": false,
      "wait_interval": 0
     },
     "base_uri": "https://localhost:8080/",
     "height": 180
    },
    "colab_type": "code",
    "executionInfo": {
     "elapsed": 1035,
     "status": "ok",
     "timestamp": 1523698217364,
     "user": {
      "displayName": "Gabriel Andrei",
      "photoUrl": "https://lh3.googleusercontent.com/a/default-user=s128",
      "userId": "104453749357877089552"
     },
     "user_tz": -180
    },
    "id": "jzWhOtGjfDZI",
    "outputId": "99451df2-0f19-49b4-e0fc-d43b0cc80d59"
   },
   "outputs": [
    {
     "data": {
      "text/plain": [
       "<matplotlib.image.AxesImage at 0x7f799a45f978>"
      ]
     },
     "execution_count": 42,
     "metadata": {
      "tags": []
     },
     "output_type": "execute_result"
    },
    {
     "data": {
      "image/png": "[encoded data removed]",
      "text/plain": [
       "<matplotlib.figure.Figure at 0x7f799ab10710>"
      ]
     },
     "metadata": {
      "tags": []
     },
     "output_type": "display_data"
    }
   ],
   "source": [
    "plt.imshow(X_test[73])\n",
    "# plt.imshow(X_test[91])\n",
    "# plt.imshow(X_test[119])\n",
    "# plt.imshow(X_test[127])\n",
    "# plt.imshow(X_test[129])"
   ]
  },
  {
   "cell_type": "code",
   "execution_count": 35,
   "metadata": {
    "colab": {
     "autoexec": {
      "startup": false,
      "wait_interval": 0
     },
     "base_uri": "https://localhost:8080/",
     "height": 571
    },
    "colab_type": "code",
    "executionInfo": {
     "elapsed": 984,
     "status": "ok",
     "timestamp": 1523698079391,
     "user": {
      "displayName": "Gabriel Andrei",
      "photoUrl": "https://lh3.googleusercontent.com/a/default-user=s128",
      "userId": "104453749357877089552"
     },
     "user_tz": -180
    },
    "id": "_TK6YQBkCtH2",
    "outputId": "3420c7d9-2471-429b-f83f-8b4296af59f5"
   },
   "outputs": [
    {
     "name": "stdout",
     "output_type": "stream",
     "text": [
      "64\n",
      "[array([[ 3.5205805, -1.173499 ]], dtype=float32)]\n",
      "[0 0]\n",
      "73\n",
      "[array([[ 0.2359932, -0.6109543]], dtype=float32)]\n",
      "[0 0]\n",
      "91\n",
      "[array([[-2.9576485,  4.945079 ]], dtype=float32)]\n",
      "[0 0]\n",
      "119\n",
      "[array([[ 0.0680668 , -0.05850273]], dtype=float32)]\n",
      "[0 0]\n",
      "127\n",
      "[array([[ 3.4833505, -2.388643 ]], dtype=float32)]\n",
      "[0 0]\n",
      "129\n",
      "[array([[ 2.2776146, -1.9983251]], dtype=float32)]\n",
      "[0 0]\n",
      "133\n",
      "[array([[ 0.26499742, -1.2275915 ]], dtype=float32)]\n",
      "[0 0]\n",
      "174\n",
      "[array([[-3.3848627, -2.3872705]], dtype=float32)]\n",
      "[0 0]\n"
     ]
    },
    {
     "data": {
      "image/png": "[encoded data removed]",
      "text/plain": [
       "<matplotlib.figure.Figure at 0x7f799ad55668>"
      ]
     },
     "metadata": {
      "tags": []
     },
     "output_type": "display_data"
    }
   ],
   "source": [
    "for i in range(len(y_test)):\n",
    "  if y_test[i][0] == 0 and y_test[i][1] == 0:\n",
    "    img_index = i\n",
    "\n",
    "    plt.imshow(X_test[img_index])\n",
    "\n",
    "    feed_dict = {\n",
    "        image_input: [X_test[img_index]],\n",
    "        is_training: False\n",
    "    }\n",
    "\n",
    "    prediction = sess.run([logits], feed_dict=feed_dict)\n",
    "\n",
    "    print(i)\n",
    "    print(prediction)\n",
    "    print(y_test[img_index])\n",
    "\n",
    "\n"
   ]
  },
  {
   "cell_type": "code",
   "execution_count": 43,
   "metadata": {
    "colab": {
     "autoexec": {
      "startup": false,
      "wait_interval": 0
     },
     "base_uri": "https://localhost:8080/",
     "height": 256
    },
    "colab_type": "code",
    "executionInfo": {
     "elapsed": 3718,
     "status": "ok",
     "timestamp": 1523699087886,
     "user": {
      "displayName": "Gabriel Andrei",
      "photoUrl": "https://lh3.googleusercontent.com/a/default-user=s128",
      "userId": "104453749357877089552"
     },
     "user_tz": -180
    },
    "id": "LXt5NOQBl85k",
    "outputId": "f8db7b33-37b5-4de2-c525-4e6194cf79ac"
   },
   "outputs": [
    {
     "name": "stdout",
     "output_type": "stream",
     "text": [
      "drive/Lic_Tests/image8.jpg\n",
      "[array([[-3.0809672, -7.3731394]], dtype=float32)]\n"
     ]
    },
    {
     "data": {
      "image/png": "[encoded data removed]",
      "text/plain": [
       "<matplotlib.figure.Figure at 0x7f799a3f6828>"
      ]
     },
     "metadata": {
      "tags": []
     },
     "output_type": "display_data"
    }
   ],
   "source": [
    "from PIL import Image\n",
    "\n",
    "def load_image_into_numpy_array(image):\n",
    "  (im_width, im_height) = image.size\n",
    "  return np.array(image.getdata()).reshape(\n",
    "      (im_height, im_width, 3)).astype(np.uint8)\n",
    "\n",
    "PATH_TO_TEST_IMAGES_DIR = 'drive/Lic_Tests'\n",
    "TEST_IMAGE_PATHS = [ os.path.join(PATH_TO_TEST_IMAGES_DIR, 'image{}.jpg'.format(i)) for i in range(1, 9) ]\n",
    "\n",
    "# Size, in inches, of the output images.\n",
    "IMAGE_SIZE = (12, 8)\n",
    "\n",
    "img_no = 7\n",
    "for image_path in TEST_IMAGE_PATHS[img_no:img_no+1]:\n",
    "  print(image_path)\n",
    "  image = Image.open(image_path)\n",
    "  # the array based representation of the image will be used later in order to prepare the\n",
    "  # result image with boxes and labels on it.\n",
    "  image_np = load_image_into_numpy_array(image)\n",
    "  \n",
    "  image_np = cv2.resize(image_np, dsize=(384, 128))\n",
    "  image_np = np.asarray(image_np.tolist())\n",
    "  \n",
    "  feed_dict = {\n",
    "    image_input: [image_np],\n",
    "    is_training: False\n",
    "  }\n",
    "\n",
    "  prediction = sess.run([logits], feed_dict=feed_dict)\n",
    "\n",
    "  print(prediction)\n",
    "  \n",
    "  plt.axis('off')\n",
    "  plt.imshow(image)"
   ]
  },
  {
   "cell_type": "markdown",
   "metadata": {
    "colab_type": "text",
    "id": "l4HywbF3QoBc"
   },
   "source": [
    "## Save a model checkpoint. Restoring a model checkpoint"
   ]
  },
  {
   "cell_type": "code",
   "execution_count": 50,
   "metadata": {
    "colab": {
     "autoexec": {
      "startup": false,
      "wait_interval": 0
     },
     "base_uri": "https://localhost:8080/",
     "height": 34
    },
    "colab_type": "code",
    "executionInfo": {
     "elapsed": 512,
     "status": "ok",
     "timestamp": 1523546578043,
     "user": {
      "displayName": "Gabriel Andrei",
      "photoUrl": "https://lh3.googleusercontent.com/a/default-user=s128",
      "userId": "104453749357877089552"
     },
     "user_tz": -180
    },
    "id": "0FuvZyhcZz-N",
    "outputId": "cc6d1402-0a3d-4567-f4f8-225b3f64f013"
   },
   "outputs": [
    {
     "data": {
      "text/plain": [
       "[]"
      ]
     },
     "execution_count": 50,
     "metadata": {
      "tags": []
     },
     "output_type": "execute_result"
    }
   ],
   "source": [
    "[n.name for n in tf.get_default_graph().as_graph_def().node if n.name.find(\"output\") != -1]\n"
   ]
  },
  {
   "cell_type": "code",
   "execution_count": 51,
   "metadata": {
    "colab": {
     "autoexec": {
      "startup": false,
      "wait_interval": 0
     },
     "base_uri": "https://localhost:8080/",
     "height": 538
    },
    "colab_type": "code",
    "executionInfo": {
     "elapsed": 1637,
     "status": "ok",
     "timestamp": 1523546580095,
     "user": {
      "displayName": "Gabriel Andrei",
      "photoUrl": "https://lh3.googleusercontent.com/a/default-user=s128",
      "userId": "104453749357877089552"
     },
     "user_tz": -180
    },
    "id": "vw3uuK6tKVtL",
    "outputId": "397287e4-256c-4c47-b449-50d7592220f1"
   },
   "outputs": [
    {
     "name": "stdout",
     "output_type": "stream",
     "text": [
      "backend-container\r\n",
      "bin\r\n",
      "boot\r\n",
      "colabtools\r\n",
      "content\r\n",
      "datalab\r\n",
      "dev\r\n",
      "etc\r\n",
      "gpu-tensorflow-1.6.0-cp27-cp27mu-linux_x86_64.whl\r\n",
      "gpu-tensorflow-1.6.0-cp36-cp36m-linux_x86_64.whl\r\n",
      "home\r\n",
      "lib\r\n",
      "lib64\r\n",
      "media\r\n",
      "mnt\r\n",
      "node_modules\r\n",
      "opt\r\n",
      "proc\r\n",
      "requirements.txt\r\n",
      "root\r\n",
      "run\r\n",
      "sbin\r\n",
      "srv\r\n",
      "sys\r\n",
      "tensorflow-1.6.0-cp27-cp27mu-linux_x86_64.whl\r\n",
      "tensorflow-1.6.0-cp36-cp36m-linux_x86_64.whl\r\n",
      "tf_deps\r\n",
      "tmp\r\n",
      "tools\r\n",
      "usr\r\n",
      "var\r\n"
     ]
    }
   ],
   "source": [
    "!ls .."
   ]
  },
  {
   "cell_type": "code",
   "execution_count": null,
   "metadata": {
    "colab": {
     "autoexec": {
      "startup": false,
      "wait_interval": 0
     },
     "base_uri": "https://localhost:8080/",
     "height": 573
    },
    "colab_type": "code",
    "executionInfo": {
     "elapsed": 30240,
     "status": "ok",
     "timestamp": 1523618020514,
     "user": {
      "displayName": "Gabriel Andrei",
      "photoUrl": "https://lh3.googleusercontent.com/a/default-user=s128",
      "userId": "104453749357877089552"
     },
     "user_tz": -180
    },
    "id": "8Pdb0OlcT6WT",
    "outputId": "62c95c17-1df7-471f-d9b7-48890765a665",
    "scrolled": true
   },
   "outputs": [],
   "source": [
    "# Create a simple TF Graph \n",
    "# Preparing a TF model for usage in Android\n",
    "# By Omid Alemi - Jan 2017\n",
    "# Works with TF r1.0\n",
    "\n",
    "import tensorflow as tf\n",
    "import sys\n",
    "from tensorflow.python.tools import freeze_graph\n",
    "from tensorflow.python.tools import optimize_for_inference_lib\n",
    "\n",
    "saver = tf.train.Saver()\n",
    "\n",
    "# save the graph\n",
    "tf.train.write_graph(sess.graph_def, './drive/eye_dataset_aux/', 'tfdroid.pbtxt')  \n",
    "\n",
    "#save a checkpoint file, which will store the above assignment  \n",
    "saver.save(sess, './drive/eye_dataset_aux/tfdroid.ckpt')\n",
    "  \n",
    "MODEL_NAME = 'tfdroid'\n",
    "# Freeze the graph\n",
    "input_graph_path = './drive/eye_dataset_aux/'+MODEL_NAME+'.pbtxt'\n",
    "checkpoint_path = './drive/eye_dataset_aux/'+MODEL_NAME+'.ckpt'\n",
    "input_saver_def_path = \"\"\n",
    "input_binary = False\n",
    "output_node_names = \"EyeNet/eye_coordinates\"\n",
    "restore_op_name = \"save/restore_all\"\n",
    "filename_tensor_name = \"save/Const:0\"\n",
    "output_frozen_graph_name = './drive/eye_dataset_aux/frozen_'+MODEL_NAME+'.pb'\n",
    "output_optimized_graph_name = './drive/eye_dataset_aux/optimized_'+MODEL_NAME+'.pb'\n",
    "clear_devices = True\n",
    "\n",
    "\n",
    "freeze_graph.freeze_graph(input_graph_path, input_saver_def_path,\n",
    "                          input_binary, checkpoint_path, output_node_names,\n",
    "                          restore_op_name, filename_tensor_name,\n",
    "                          output_frozen_graph_name, clear_devices, \"\")\n",
    "\n",
    "\n",
    "\n",
    "# Optimize for inference\n",
    "\n",
    "input_graph_def = tf.GraphDef()\n",
    "with tf.gfile.Open(output_frozen_graph_name, \"rb\") as f:\n",
    "    data = f.read()\n",
    "    input_graph_def.ParseFromString(data)\n",
    "print(input_graph_def)\n",
    "output_graph_def = optimize_for_inference_lib.optimize_for_inference(\n",
    "        input_graph_def,\n",
    "        [\"image_input\"], # an array of the input node(s)\n",
    "        [\"EyeNet/eye_coordinates\"], # an array of output nodes\n",
    "        tf.float32.as_datatype_enum)\n",
    "\n",
    "# Save the optimized graph\n",
    "\n",
    "f = tf.gfile.FastGFile(output_optimized_graph_name, \"w\")\n",
    "f.write(output_graph_def.SerializeToString())\n",
    "\n",
    "# tf.train.write_graph(output_graph_def, 'content/drive/eye_dataset/', output_optimized_graph_name)   "
   ]
  }
 ],
 "metadata": {
  "accelerator": "GPU",
  "colab": {
   "collapsed_sections": [],
   "default_view": {},
   "name": "Copy of cifar10_inception_solver.ipynb",
   "provenance": [],
   "version": "0.3.2",
   "views": {}
  },
  "kernelspec": {
   "display_name": "Python 3",
   "language": "python",
   "name": "python3"
  },
  "language_info": {
   "codemirror_mode": {
    "name": "ipython",
    "version": 3
   },
   "file_extension": ".py",
   "mimetype": "text/x-python",
   "name": "python",
   "nbconvert_exporter": "python",
   "pygments_lexer": "ipython3",
   "version": "3.6.3"
  }
 },
 "nbformat": 4,
 "nbformat_minor": 1
}
